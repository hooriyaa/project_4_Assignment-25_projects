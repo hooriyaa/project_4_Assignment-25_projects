{
 "cells": [
  {
   "cell_type": "code",
   "execution_count": 22,
   "id": "f1a15adf",
   "metadata": {},
   "outputs": [
    {
     "name": "stdout",
     "output_type": "stream",
     "text": [
      "🎉 Bulk renaming complete!\n"
     ]
    }
   ],
   "source": [
    "import os\n",
    "\n",
    "def rename_files(folder_path, prefix, file_extension):\n",
    "    # If the folder_path is a file, process that file directly\n",
    "    if os.path.isfile(folder_path):\n",
    "        files_to_rename = [folder_path]\n",
    "    else:\n",
    "        # If it's a directory, get all files with the specified extension\n",
    "        files_to_rename = [os.path.join(folder_path, f) for f in os.listdir(folder_path) if f.endswith(file_extension)]\n",
    "\n",
    "    # Renaming files\n",
    "    for count, file_path in enumerate(files_to_rename, start=1):\n",
    "        if os.path.isfile(file_path):\n",
    "            directory, filename = os.path.split(file_path)\n",
    "            new_name = f\"{prefix}{count}{file_extension}\"\n",
    "            new_path = os.path.join(directory, new_name)\n",
    "            \n",
    "            print(f\"🔧 Renaming: {file_path} → {new_path}\")\n",
    "            os.rename(file_path, new_path)\n",
    "            print(f\"✅ Renamed: {filename} → {new_name}\")\n",
    "    print(\"🎉 Bulk renaming complete!\")\n",
    "\n",
    "# Get user input\n",
    "folder_path = input(\"📂 Enter the full folder path (or file path): \").strip()\n",
    "prefix = input(\"📝 Enter a prefix for the new filenames: \").strip()\n",
    "file_extension = input(\"🔍 Enter the file extension (e.g., .txt, .jpg, .pdf): \").strip()\n",
    "\n",
    "rename_files(folder_path, prefix, file_extension)"
   ]
  }
 ],
 "metadata": {
  "kernelspec": {
   "display_name": "base",
   "language": "python",
   "name": "python3"
  },
  "language_info": {
   "codemirror_mode": {
    "name": "ipython",
    "version": 3
   },
   "file_extension": ".py",
   "mimetype": "text/x-python",
   "name": "python",
   "nbconvert_exporter": "python",
   "pygments_lexer": "ipython3",
   "version": "3.12.7"
  }
 },
 "nbformat": 4,
 "nbformat_minor": 5
}
