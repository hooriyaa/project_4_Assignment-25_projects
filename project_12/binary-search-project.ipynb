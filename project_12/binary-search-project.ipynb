{
 "cells": [
  {
   "cell_type": "code",
   "execution_count": null,
   "id": "effd9fa5",
   "metadata": {},
   "outputs": [
    {
     "name": "stdout",
     "output_type": "stream",
     "text": [
      "bytearray(b'AB')\n"
     ]
    }
   ],
   "source": [
    "def binary_search(arr, target):\n",
    "    \"\"\"\n",
    "    Binary Search Algorithm Implementation\n",
    "    \n",
    "    Parameters:\n",
    "        arr (list): Sorted list of numbers\n",
    "        target (int): Number to search for\n",
    "        \n",
    "    Returns:\n",
    "        int: Index of target if found, else -1\n",
    "    \"\"\"\n",
    "    left = 0\n",
    "    right = len(arr) - 1\n",
    "    \n",
    "    while left <= right:\n",
    "        mid = (left + right) // 2  # Find middle index\n",
    "        \n",
    "        if arr[mid] == target:  # Target found\n",
    "            return mid\n",
    "        elif arr[mid] < target:  # Search right half\n",
    "            left = mid + 1\n",
    "        else:  # Search left half\n",
    "            right = mid - 1\n",
    "    \n",
    "    return -1  # Target not found\n",
    "\n",
    "def main():\n",
    "    print(\"🔍 Binary Search Algorithm 🔍\")\n",
    "    print(\"----------------------------\")\n",
    "    \n",
    "    # Step 1: Get sorted array from user\n",
    "    while True:\n",
    "        try:\n",
    "            input_str = input(\"Enter sorted numbers (space-separated): \")\n",
    "            numbers = list(map(int, input_str.split()))\n",
    "            \n",
    "            # Verify array is sorted\n",
    "            if numbers != sorted(numbers):\n",
    "                print(\"❌ Error: Array must be sorted. Try again.\")\n",
    "                continue\n",
    "            break\n",
    "        except ValueError:\n",
    "            print(\"❌ Invalid input. Enter numbers only.\")\n",
    "    \n",
    "    # Step 2: Get target value from user\n",
    "    while True:\n",
    "        try:\n",
    "            target = int(input(\"Enter target number to search: \"))\n",
    "            break\n",
    "        except ValueError:\n",
    "            print(\"❌ Invalid input. Enter a number.\")\n",
    "    \n",
    "    # Step 3: Perform binary search\n",
    "    result = binary_search(numbers, target)\n",
    "    \n",
    "    # Step 4: Display results\n",
    "    if result != -1:\n",
    "        print(f\"✅ Found at index {result}\")\n",
    "    else:\n",
    "        print(\"❌ Not found in the array\")\n",
    "\n",
    "if __name__ == \"__main__\":\n",
    "    main()"
   ]
  }
 ],
 "metadata": {
  "kernelspec": {
   "display_name": "base",
   "language": "python",
   "name": "python3"
  },
  "language_info": {
   "codemirror_mode": {
    "name": "ipython",
    "version": 3
   },
   "file_extension": ".py",
   "mimetype": "text/x-python",
   "name": "python",
   "nbconvert_exporter": "python",
   "pygments_lexer": "ipython3",
   "version": "3.12.7"
  }
 },
 "nbformat": 4,
 "nbformat_minor": 5
}
