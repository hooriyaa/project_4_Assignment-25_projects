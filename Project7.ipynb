{
  "nbformat": 4,
  "nbformat_minor": 0,
  "metadata": {
    "colab": {
      "provenance": [],
      "authorship_tag": "ABX9TyO61GPfDHbNG5DQStrKHGzd",
      "include_colab_link": true
    },
    "kernelspec": {
      "name": "python3",
      "display_name": "Python 3"
    },
    "language_info": {
      "name": "python"
    }
  },
  "cells": [
    {
      "cell_type": "markdown",
      "metadata": {
        "id": "view-in-github",
        "colab_type": "text"
      },
      "source": [
        "<a href=\"https://colab.research.google.com/github/hooriyaa/projects/blob/main/Project7.ipynb\" target=\"_parent\"><img src=\"https://colab.research.google.com/assets/colab-badge.svg\" alt=\"Open In Colab\"/></a>"
      ]
    },
    {
      "cell_type": "markdown",
      "source": [
        "# **Project 7: Password Generator Python Project**"
      ],
      "metadata": {
        "id": "HEdS5MJEoc0s"
      }
    },
    {
      "cell_type": "code",
      "execution_count": null,
      "metadata": {
        "colab": {
          "base_uri": "https://localhost:8080/"
        },
        "id": "DTIDQcwGoWfn",
        "outputId": "44881ee5-3f80-4e33-ade1-1875cfcec0fe"
      },
      "outputs": [
        {
          "output_type": "stream",
          "name": "stdout",
          "text": [
            "✨y Welcome to Secure Password Generator 💪\n",
            "\n",
            "ℹ️ Please enter the password length in **NUMBER format**.\n",
            "📌 Enter the desired password length: hooriya\n",
            "\n",
            "❌ Please enter a valid number (4 or more).\n",
            "\n",
            "📌 Enter the desired password length: 9\n",
            "\n",
            "🔢 Include digits? (yes/no): no\n",
            "✨ Include special characters? (yes/no): yes\n",
            "\n",
            "🔓 Generated Password: )}S<OVmkQ\n"
          ]
        }
      ],
      "source": [
        "import random\n",
        "import string\n",
        "\n",
        "# 🔑 Password Generator Function\n",
        "def generate_password(length, use_digits, use_special_chars):\n",
        "    chars = string.ascii_letters\n",
        "    if use_digits:\n",
        "        chars += string.digits\n",
        "    if use_special_chars:\n",
        "        chars += string.punctuation\n",
        "\n",
        "    password = ''.join(random.choice(chars) for _ in range(length))\n",
        "    return password\n",
        "\n",
        "\n",
        "print(\"✨y Welcome to Secure Password Generator 💪\\n\")\n",
        "print(\"ℹ️ Please enter the password length in **NUMBER format**.\")\n",
        "\n",
        "while True:\n",
        "    length_input = input(\"📌 Enter the desired password length: \")\n",
        "    if length_input.isdigit() and int(length_input) >= 4:\n",
        "        length = int(length_input)\n",
        "        break\n",
        "    print(\"\\n❌ Please enter a valid number (4 or more).\\n\")\n",
        "\n",
        "use_digits = input(\"\\n🔢 Include digits? (yes/no): \").strip().lower() == 'yes'\n",
        "use_special_chars = input(\"✨ Include special characters? (yes/no): \").strip().lower() == 'yes'\n",
        "\n",
        "password = generate_password(length, use_digits, use_special_chars)\n",
        "print(\"\\n🔓 Generated Password:\", password)\n"
      ]
    }
  ]
}