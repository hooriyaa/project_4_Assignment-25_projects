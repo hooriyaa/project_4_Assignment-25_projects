{
  "nbformat": 4,
  "nbformat_minor": 0,
  "metadata": {
    "colab": {
      "provenance": [],
      "authorship_tag": "ABX9TyM7huSJEvOloVYOzFc4qXV+",
      "include_colab_link": true
    },
    "kernelspec": {
      "name": "python3",
      "display_name": "Python 3"
    },
    "language_info": {
      "name": "python"
    }
  },
  "cells": [
    {
      "cell_type": "markdown",
      "metadata": {
        "id": "view-in-github",
        "colab_type": "text"
      },
      "source": [
        "<a href=\"https://colab.research.google.com/github/hooriyaa/projects/blob/main/project3.ipynb\" target=\"_parent\"><img src=\"https://colab.research.google.com/assets/colab-badge.svg\" alt=\"Open In Colab\"/></a>"
      ]
    },
    {
      "cell_type": "markdown",
      "source": [
        "# **Project 3: Guess the Number Game Python Project (user)**"
      ],
      "metadata": {
        "id": "UmYm6IrIBP9K"
      }
    },
    {
      "cell_type": "code",
      "execution_count": null,
      "metadata": {
        "id": "f8CfyRChoGzR",
        "outputId": "5927c2c0-a6f1-4e23-e0a9-a6d275204e5e",
        "colab": {
          "base_uri": "https://localhost:8080/"
        }
      },
      "outputs": [
        {
          "output_type": "stream",
          "name": "stdout",
          "text": [
            "🎯 Welcome to the Guess the Number Game!\n",
            "\n",
            "🔢 I have selected a number between 1 and 100.Can you guess what it is? 🤔\n",
            "\n",
            "👉 Enter your guess: 6\n",
            "⬇️ Too low! Try again. 🥶\n",
            "👉 Enter your guess: 40\n",
            "⬆️ Too high! Try again. 😅\n",
            "👉 Enter your guess: 30\n",
            "⬆️ Too high! Try again. 😅\n",
            "👉 Enter your guess: 20\n",
            "⬆️ Too high! Try again. 😅\n",
            "👉 Enter your guess: 15\n",
            "⬇️ Too low! Try again. 🥶\n",
            "👉 Enter your guess: 17\n",
            "\n",
            "🎉🎊 Congratulations! You guessed the number 17 in 6 attempts. 🏆\n"
          ]
        }
      ],
      "source": [
        "import random\n",
        "\n",
        "def guess_the_number():\n",
        "    print(\"🎯 Welcome to the Guess the Number Game!\\n\")\n",
        "    print(\"🔢 I have selected a number between 1 and 100.Can you guess what it is? 🤔\\n\")\n",
        "\n",
        "    secret_number = random.randint(1, 100)  # Random number between 1 and 100\n",
        "    attempts = 0  # Count the number of guesses\n",
        "\n",
        "    while True:\n",
        "        try:\n",
        "            guess = int(input(\"👉 Enter your guess: \"))  # User inputs their guess\n",
        "            attempts += 1  # Add 1 to attempts\n",
        "\n",
        "            if guess < 1 or guess > 100:  # Check if guess is out of range\n",
        "                print(\"⚠️ Please enter a number between 1 and 100. 🙄\")\n",
        "            elif guess < secret_number:  # Check if guess is too low\n",
        "                print(\"⬇️ Too low! Try again. 🥶\")\n",
        "            elif guess > secret_number:  # Check if guess is too high\n",
        "                print(\"⬆️ Too high! Try again. 😅\")\n",
        "            else:\n",
        "                print(f\"\\n🎉🎊 Congratulations! You guessed the number {secret_number} in {attempts} attempts. 🏆\")  # Correct guess\n",
        "                break  # End the game\n",
        "        except ValueError:  # Catch invalid input\n",
        "            print(\"🚫 Invalid input. Please enter a valid number. 🤡\")\n",
        "\n",
        "# This line makes sure the game runs only if this file is executed directly, not if it's imported in another file.\n",
        "if __name__ == \"__main__\":\n",
        "    guess_the_number()\n"
      ]
    }
  ]
}