{
  "nbformat": 4,
  "nbformat_minor": 0,
  "metadata": {
    "colab": {
      "provenance": [],
      "authorship_tag": "ABX9TyPoKChsi1lrINE19nWsBLCm",
      "include_colab_link": true
    },
    "kernelspec": {
      "name": "python3",
      "display_name": "Python 3"
    },
    "language_info": {
      "name": "python"
    }
  },
  "cells": [
    {
      "cell_type": "markdown",
      "metadata": {
        "id": "view-in-github",
        "colab_type": "text"
      },
      "source": [
        "<a href=\"https://colab.research.google.com/github/hooriyaa/projects/blob/main/project1.ipynb\" target=\"_parent\"><img src=\"https://colab.research.google.com/assets/colab-badge.svg\" alt=\"Open In Colab\"/></a>"
      ]
    },
    {
      "cell_type": "markdown",
      "source": [
        "# **Project 1: Mad libs Python Project**"
      ],
      "metadata": {
        "id": "1AUYt2UpA4j8"
      }
    },
    {
      "cell_type": "code",
      "execution_count": null,
      "metadata": {
        "colab": {
          "base_uri": "https://localhost:8080/"
        },
        "id": "pewwi-1sgxf5",
        "outputId": "a17c191b-ea56-44af-eb95-5ae7569ce347"
      },
      "outputs": [
        {
          "output_type": "stream",
          "name": "stdout",
          "text": [
            "🎯✨ Welcome to Hooriya's Super Funny Adventure! 🌈🤣\n",
            "Let's create the silliest story ever! 😂🧦\n",
            "\n",
            "🦸‍♀️ What is your superhero name?: Princess Giggles\n",
            "⚡ What magical power do you have?: Flying Power\n",
            "🐒 Name your funniest animal friend: Coco Monkey\n",
            "🏖️ Name a crazy place: Ice Cream Land\n",
            "🍟 What snack do you love the most?: Ice Cream\n",
            "💎 Name a magical object: Doraemon's Anywhere Door 🚪\n",
            "😆 How are you feeling today?: Happy\n",
            "🔊 What sound makes you laugh the most?: Boom Boom\n",
            "\n",
            "================================================================================\n",
            "\n",
            "    🌟🔥 THE LEGEND OF Princess Giggles 🔥🌟\n",
            "\n",
            "    One silly morning, Princess Giggles woke up feeling Happy 😆!\n",
            "    With the power of Flying Power ⚡, they teamed up with Coco Monkey 🐒 in Ice Cream Land 🏖️.\n",
            "    Holding the shiny Doraemon's Anywhere Door 🚪 💎, they built a chocolate fountain that sprays soda 🍫🥤 🎉.\n",
            "\n",
            "    Suddenly, Coco Monkey made a loud 'Boom Boom!' 🔊, making everyone laugh so hard they fell into a pool of Ice Cream 🍟😂!\n",
            "    After all the fun, Princess Giggles and Coco Monkey shared a mountain of Ice Cream 🍕 while everyone cheered 🎉🙌!\n",
            "\n",
            "    And that's how Princess Giggles became the funniest hero of Ice Cream Land 🏆🤣!\n",
            "    \n",
            "================================================================================\n",
            "\n",
            "Thank you, Hooriya, for filling the world with laughter! 🌍🤣💖\n"
          ]
        }
      ],
      "source": [
        "import random\n",
        "\n",
        "def hooriyas_funniest_journey():\n",
        "    print(\"🎯✨ Welcome to Hooriya's Super Funny Adventure! 🌈🤣\")\n",
        "    print(\"Let's create the silliest story ever! 😂🧦\\n\")\n",
        "\n",
        "    hero = input(\"🦸‍♀️ What is your superhero name?: \")\n",
        "    superpower = input(\"⚡ What magical power do you have?: \")\n",
        "    animal_sidekick = input(\"🐒 Name your funniest animal friend: \")\n",
        "    strange_place = input(\"🏖️ Name a crazy place: \")\n",
        "    favorite_snack = input(\"🍟 What snack do you love the most?: \")\n",
        "    magical_object = input(\"💎 Name a magical object: \")\n",
        "    funny_emotion = input(\"😆 How are you feeling today?: \")\n",
        "    crazy_sound = input(\"🔊 What sound makes you laugh the most?: \")\n",
        "\n",
        "    silly_adventures = [\n",
        "        \"turned the ground into jelly beans 🍬\",\n",
        "        \"taught flamingos how to moonwalk 🦩💃\",\n",
        "        \"built a chocolate fountain that sprays soda 🍫🥤\",\n",
        "        \"had a dance battle with a singing pineapple 🍍🎤\",\n",
        "        \"made the sun wear sunglasses ☀️🕶️\"\n",
        "    ]\n",
        "\n",
        "    chosen_adventure = random.choice(silly_adventures)\n",
        "\n",
        "    story = f\"\"\"\n",
        "    🌟🔥 THE LEGEND OF {hero} 🔥🌟\n",
        "\n",
        "    One silly morning, {hero} woke up feeling {funny_emotion} 😆!\n",
        "    With the power of {superpower} ⚡, they teamed up with {animal_sidekick} 🐒 in {strange_place} 🏖️.\n",
        "    Holding the shiny {magical_object} 💎, they {chosen_adventure} 🎉.\n",
        "\n",
        "    Suddenly, {animal_sidekick} made a loud '{crazy_sound}!' 🔊, making everyone laugh so hard they fell into a pool of {favorite_snack} 🍟😂!\n",
        "    After all the fun, {hero} and {animal_sidekick} shared a mountain of {favorite_snack} 🍕 while everyone cheered 🎉🙌!\n",
        "\n",
        "    And that's how {hero} became the funniest hero of {strange_place} 🏆🤣!\n",
        "    \"\"\"\n",
        "\n",
        "    print(\"\\n\" + \"=\"*80)\n",
        "    print(story)\n",
        "    print(\"=\"*80 + \"\\n\")\n",
        "    print(\"Thank you, Hooriya, for filling the world with laughter! 🌍🤣💖\")\n",
        "\n",
        "# Calling the function\n",
        "hooriyas_funniest_journey()"
      ]
    },
    {
      "cell_type": "markdown",
      "source": [],
      "metadata": {
        "id": "fPjZkkJiA3Jb"
      }
    }
  ]
}