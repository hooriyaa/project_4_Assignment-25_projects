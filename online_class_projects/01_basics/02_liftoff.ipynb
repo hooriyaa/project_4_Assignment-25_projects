{
 "cells": [
  {
   "cell_type": "code",
   "execution_count": 4,
   "metadata": {},
   "outputs": [
    {
     "name": "stdout",
     "output_type": "stream",
     "text": [
      "🚀 Spaceship Countdown Program 🚀\n",
      "\n",
      "10 9 8 7 6 5 4 3 2 1  Liftoff! 🚀\n"
     ]
    }
   ],
   "source": [
    "# Print program title with emojis\n",
    "print(\"🚀 Spaceship Countdown Program 🚀\\n\")\n",
    "\n",
    "# Countdown from 10 to 1\n",
    "for i in range(10, 0, -1):  # Start at 10, go down to 1\n",
    "    print(i, end=\" \")  # Print on the same line with space\n",
    "\n",
    "# Print Liftoff! at the end\n",
    "print(\" Liftoff! 🚀\")\n"
   ]
  }
 ],
 "metadata": {
  "kernelspec": {
   "display_name": "base",
   "language": "python",
   "name": "python3"
  },
  "language_info": {
   "codemirror_mode": {
    "name": "ipython",
    "version": 3
   },
   "file_extension": ".py",
   "mimetype": "text/x-python",
   "name": "python",
   "nbconvert_exporter": "python",
   "pygments_lexer": "ipython3",
   "version": "3.12.7"
  }
 },
 "nbformat": 4,
 "nbformat_minor": 2
}
