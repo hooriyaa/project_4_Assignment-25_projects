{
 "cells": [
  {
   "cell_type": "code",
   "execution_count": 10,
   "metadata": {},
   "outputs": [
    {
     "name": "stdout",
     "output_type": "stream",
     "text": [
      "🤣 Here is a joke for you! \n",
      "\n",
      "🛒 Panaversity GPT - Sophia is heading out to the grocery store. \n",
      "💻 A programmer tells her: get a liter of milk, and if they have eggs, get 12. \n",
      "🥛 Sophia returns with 13 liters of milk. \n",
      "🤔 The programmer asks why and Sophia replies: 'because they had eggs'\n"
     ]
    }
   ],
   "source": [
    "# Constants define karna\n",
    "PROMPT = \"🤖 What do you want? \"\n",
    "JOKE = \"\"\"🤣 Here is a joke for you! \n",
    "\n",
    "🛒 Panaversity GPT - Sophia is heading out to the grocery store. \n",
    "💻 A programmer tells her: get a liter of milk, and if they have eggs, get 12. \n",
    "🥛 Sophia returns with 13 liters of milk. \n",
    "🤔 The programmer asks why and Sophia replies: 'because they had eggs'\"\"\"\n",
    "SORRY = \"😅 Sorry, I only tell jokes! Try typing 'Joke'\"\n",
    "\n",
    "# User se input lena aur lowercase mai convert karna\n",
    "user_input = input(PROMPT).strip().lower()  # strip() extra spaces hata deta hai\n",
    "\n",
    "# Check karna user ne kya likha\n",
    "if user_input == \"joke\":  # lowercase se match karega\n",
    "    print(JOKE)\n",
    "else:\n",
    "    print(SORRY)\n",
    "\n",
    "   "
   ]
  }
 ],
 "metadata": {
  "kernelspec": {
   "display_name": "base",
   "language": "python",
   "name": "python3"
  },
  "language_info": {
   "codemirror_mode": {
    "name": "ipython",
    "version": 3
   },
   "file_extension": ".py",
   "mimetype": "text/x-python",
   "name": "python",
   "nbconvert_exporter": "python",
   "pygments_lexer": "ipython3",
   "version": "3.12.7"
  }
 },
 "nbformat": 4,
 "nbformat_minor": 2
}
