{
 "cells": [
  {
   "cell_type": "code",
   "execution_count": 2,
   "metadata": {},
   "outputs": [
    {
     "name": "stdout",
     "output_type": "stream",
     "text": [
      "69 61 45 11 49 67 73 38 35 48 \n"
     ]
    }
   ],
   "source": [
    "import random  # Random number generate karne ke liye\n",
    "\n",
    "# 10 random numbers generate karna\n",
    "for _ in range(10):\n",
    "    print(random.randint(1, 100), end=\" \")  # Ek line mai print karne ke liye 'end=\" \"' use kiya\n",
    "\n",
    "print()  # New line ke liye\n"
   ]
  }
 ],
 "metadata": {
  "kernelspec": {
   "display_name": "base",
   "language": "python",
   "name": "python3"
  },
  "language_info": {
   "codemirror_mode": {
    "name": "ipython",
    "version": 3
   },
   "file_extension": ".py",
   "mimetype": "text/x-python",
   "name": "python",
   "nbconvert_exporter": "python",
   "pygments_lexer": "ipython3",
   "version": "3.12.7"
  }
 },
 "nbformat": 4,
 "nbformat_minor": 2
}
