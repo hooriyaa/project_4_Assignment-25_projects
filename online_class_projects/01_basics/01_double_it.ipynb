{
 "cells": [
  {
   "cell_type": "code",
   "execution_count": 8,
   "metadata": {},
   "outputs": [
    {
     "name": "stdout",
     "output_type": "stream",
     "text": [
      "Please enter a number greater than 0.\n",
      "Invalid input! Please enter a valid number.\n",
      "6\n",
      "12\n",
      "24\n",
      "48\n",
      "96\n",
      "192\n"
     ]
    }
   ],
   "source": [
    "while True:  # Keep asking until we get a valid number\n",
    "    try:\n",
    "        curr_value = int(input(\"Enter a positive number: \"))  # Get user input\n",
    "        \n",
    "        if curr_value <= 0:\n",
    "            print(\"Please enter a number greater than 0.\")\n",
    "            continue  # Ask again\n",
    "        \n",
    "        break  # Exit the loop if input is valid\n",
    "\n",
    "    except ValueError:\n",
    "        print(\"Invalid input! Please enter a valid number.\")\n",
    "\n",
    "# Step 2: Keep doubling while it's less than 100\n",
    "while curr_value < 100:\n",
    "    curr_value = curr_value * 2  # Double the value\n",
    "    print(curr_value,)  # Print the new value\n"
   ]
  }
 ],
 "metadata": {
  "kernelspec": {
   "display_name": "base",
   "language": "python",
   "name": "python3"
  },
  "language_info": {
   "codemirror_mode": {
    "name": "ipython",
    "version": 3
   },
   "file_extension": ".py",
   "mimetype": "text/x-python",
   "name": "python",
   "nbconvert_exporter": "python",
   "pygments_lexer": "ipython3",
   "version": "3.12.7"
  }
 },
 "nbformat": 4,
 "nbformat_minor": 2
}
