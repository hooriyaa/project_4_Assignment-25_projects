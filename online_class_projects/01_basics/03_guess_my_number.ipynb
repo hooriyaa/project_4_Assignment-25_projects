{
 "cells": [
  {
   "cell_type": "code",
   "execution_count": 3,
   "metadata": {},
   "outputs": [
    {
     "name": "stdout",
     "output_type": "stream",
     "text": [
      "🎯 I am thinking of a number between 0 and 99...\n",
      "📈 Your guess is too low\n",
      "\n",
      "❌ Invalid input! Please enter a number between 0 and 99.\n",
      "\n",
      "📈 Your guess is too low\n",
      "\n",
      "📉 Your guess is too high\n",
      "\n",
      "📈 Your guess is too low\n",
      "\n",
      "📈 Your guess is too low\n",
      "\n",
      "📉 Your guess is too high\n",
      "\n",
      "🎉 Congrats! The number was: 37\n"
     ]
    }
   ],
   "source": [
    "import random  # Random number generate karne ke liye\n",
    "\n",
    "# Ek random number choose karna (0 se 99 tak)\n",
    "secret_number = random.randint(0, 99)\n",
    "\n",
    "print(\"🎯 I am thinking of a number between 0 and 99...\")\n",
    "\n",
    "while True:\n",
    "    try:\n",
    "        # User se number lena (aur error handle karna)\n",
    "        guess = int(input(\"Enter a guess: \"))\n",
    "        \n",
    "        # Check karna number sahi hai ya nahi\n",
    "        if guess > secret_number:\n",
    "            print(\"📉 Your guess is too high\\n\")\n",
    "        elif guess < secret_number:\n",
    "            print(\"📈 Your guess is too low\\n\")\n",
    "        else:\n",
    "            print(f\"🎉 Congrats! The number was: {secret_number}\")\n",
    "            break  # Game khatam ho jaye\n",
    "    except ValueError:\n",
    "        print(\"❌ Invalid input! Please enter a number between 0 and 99.\\n\")\n"
   ]
  }
 ],
 "metadata": {
  "kernelspec": {
   "display_name": "base",
   "language": "python",
   "name": "python3"
  },
  "language_info": {
   "codemirror_mode": {
    "name": "ipython",
    "version": 3
   },
   "file_extension": ".py",
   "mimetype": "text/x-python",
   "name": "python",
   "nbconvert_exporter": "python",
   "pygments_lexer": "ipython3",
   "version": "3.12.7"
  }
 },
 "nbformat": 4,
 "nbformat_minor": 2
}
