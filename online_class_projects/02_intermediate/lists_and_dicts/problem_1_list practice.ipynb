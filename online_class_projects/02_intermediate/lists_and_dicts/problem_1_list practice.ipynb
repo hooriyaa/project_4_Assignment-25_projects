{
 "cells": [
  {
   "cell_type": "code",
   "execution_count": 1,
   "metadata": {},
   "outputs": [
    {
     "name": "stdout",
     "output_type": "stream",
     "text": [
      "Number of fruits: 5\n",
      "Updated fruit list: ['apple', 'banana', 'orange', 'grape', 'pineapple', 'mango']\n"
     ]
    }
   ],
   "source": [
    "def main():\n",
    "    # Step 1: Create a list of fruits\n",
    "    fruit_list = ['apple', 'banana', 'orange', 'grape', 'pineapple']\n",
    "    \n",
    "    # Step 2: Print the length of the list\n",
    "    print(\"Number of fruits:\", len(fruit_list))\n",
    "    \n",
    "    # Step 3: Add 'mango' to the list\n",
    "    fruit_list.append('mango')\n",
    "    \n",
    "    # Step 4: Print the updated list\n",
    "    print(\"Updated fruit list:\", fruit_list)\n",
    "\n",
    "# Run the function\n",
    "main()\n"
   ]
  }
 ],
 "metadata": {
  "kernelspec": {
   "display_name": "base",
   "language": "python",
   "name": "python3"
  },
  "language_info": {
   "codemirror_mode": {
    "name": "ipython",
    "version": 3
   },
   "file_extension": ".py",
   "mimetype": "text/x-python",
   "name": "python",
   "nbconvert_exporter": "python",
   "pygments_lexer": "ipython3",
   "version": "3.12.7"
  }
 },
 "nbformat": 4,
 "nbformat_minor": 2
}
