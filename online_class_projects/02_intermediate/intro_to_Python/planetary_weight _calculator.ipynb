{
 "cells": [
  {
   "cell_type": "code",
   "execution_count": 2,
   "metadata": {},
   "outputs": [
    {
     "name": "stdout",
     "output_type": "stream",
     "text": [
      "The equivalent weight on venus: 222.25\n"
     ]
    }
   ],
   "source": [
    "# Define planetary gravity constants as a dictionary\n",
    "GRAVITY_FACTORS = {\n",
    "    \"Mercury\": 0.376,\n",
    "    \"Venus\": 0.889,\n",
    "    \"Mars\": 0.378,\n",
    "    \"Jupiter\": 2.36,\n",
    "    \"Saturn\": 1.081,\n",
    "    \"Uranus\": 0.815,\n",
    "    \"Neptune\": 1.14\n",
    "}\n",
    "\n",
    "def calculate_weight(earth_weight: float, planet: str) -> float:\n",
    "    \"\"\"Calculates equivalent weight on a given planet.\"\"\"\n",
    "    planet = planet.title()  # Normalize capitalization\n",
    "    if planet in GRAVITY_FACTORS:\n",
    "        return round(earth_weight * GRAVITY_FACTORS[planet], 2)\n",
    "    else:\n",
    "        return None  # Handle invalid planets\n",
    "\n",
    "def main():\n",
    "    # Get user input for Earth weight\n",
    "    earth_weight = float(input(\"Enter a weight on Earth: \"))\n",
    "    \n",
    "    # Get user input for the planet\n",
    "    planet = input(\"Enter a planet: \")\n",
    "    \n",
    "    # Calculate and display the equivalent weight\n",
    "    planetary_weight = calculate_weight(earth_weight, planet)\n",
    "    \n",
    "    if planetary_weight is not None:\n",
    "        print(f\"The equivalent weight on {planet}: {planetary_weight}\")\n",
    "    else:\n",
    "        print(\"Invalid planet name. Please enter a valid planet.\")\n",
    "\n",
    "if __name__ == \"__main__\":\n",
    "    main()\n"
   ]
  }
 ],
 "metadata": {
  "kernelspec": {
   "display_name": "base",
   "language": "python",
   "name": "python3"
  },
  "language_info": {
   "codemirror_mode": {
    "name": "ipython",
    "version": 3
   },
   "file_extension": ".py",
   "mimetype": "text/x-python",
   "name": "python",
   "nbconvert_exporter": "python",
   "pygments_lexer": "ipython3",
   "version": "3.12.7"
  }
 },
 "nbformat": 4,
 "nbformat_minor": 2
}
