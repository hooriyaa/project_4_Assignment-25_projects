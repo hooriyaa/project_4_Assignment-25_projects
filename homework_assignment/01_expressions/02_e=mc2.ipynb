{
 "cells": [
  {
   "cell_type": "code",
   "execution_count": 7,
   "metadata": {},
   "outputs": [
    {
     "name": "stdout",
     "output_type": "stream",
     "text": [
      "\n",
      "💡 e = m * C^2...\n",
      "\n",
      "🟢 m = 44.0 kg\n",
      "🔵 C = 299792458 m/s\n",
      "\n",
      "⚡ 3.954523e+18 joules of energy!\n"
     ]
    }
   ],
   "source": [
    "# Define the speed of light (C) in meters per second\n",
    "C: int = 299_792_458  # Using underscores for readability\n",
    "\n",
    "def main():\n",
    "    \"\"\"\n",
    "    📌 Simple program to calculate energy (E) from mass (m) using:\n",
    "       E = m * C^2, where C is the speed of light.\n",
    "    \"\"\"\n",
    "    # Get user input for mass\n",
    "    mass: float = float(input(\"Enter kilos of mass: \"))\n",
    "\n",
    "    # Calculate energy using Einstein's formula\n",
    "    energy: float = mass * (C ** 2)\n",
    "\n",
    "    # Display results in a simple format\n",
    "    print(\"\\n💡 e = m * C^2...\\n\")\n",
    "    print(f\"🟢 m = {mass} kg\")\n",
    "    print(f\"🔵 C = {C} m/s\")\n",
    "    print(f\"\\n⚡ {energy:.6e} joules of energy!\")  # Displays in scientific notation\n",
    "\n",
    "# Ensures the script runs only when executed directly\n",
    "if __name__ == '__main__':\n",
    "    main()\n",
    "\n",
    "\n"
   ]
  }
 ],
 "metadata": {
  "kernelspec": {
   "display_name": "base",
   "language": "python",
   "name": "python3"
  },
  "language_info": {
   "codemirror_mode": {
    "name": "ipython",
    "version": 3
   },
   "file_extension": ".py",
   "mimetype": "text/x-python",
   "name": "python",
   "nbconvert_exporter": "python",
   "pygments_lexer": "ipython3",
   "version": "3.12.7"
  }
 },
 "nbformat": 4,
 "nbformat_minor": 2
}
