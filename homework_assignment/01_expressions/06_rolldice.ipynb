{
 "cells": [
  {
   "cell_type": "code",
   "execution_count": 5,
   "metadata": {},
   "outputs": [
    {
     "name": "stdout",
     "output_type": "stream",
     "text": [
      "\n",
      "🎲 Die 1: 4 🎲 Die 2: 5\n",
      "📏 Total: 9 ✅\n"
     ]
    }
   ],
   "source": [
    "import random  # Import random module for dice rolling\n",
    "\n",
    "def roll_dice():\n",
    "    \"\"\" 🎲 Rolls two dice and prints the results \"\"\"\n",
    "    \n",
    "    # 🔢 Generate random numbers for two dice (1 to 6)\n",
    "    die1 = random.randint(1, 6)\n",
    "    die2 = random.randint(1, 6)\n",
    "\n",
    "    # ➕ Calculate total\n",
    "    total = die1 + die2\n",
    "\n",
    "    # 🏆 Print results\n",
    "    print(f\"\\n🎲 Die 1: {die1} 🎲 Die 2: {die2}\")\n",
    "    print(f\"📏 Total: {total} ✅\")\n",
    "\n",
    "def main():\n",
    "    roll_dice()  # Roll dice once\n",
    "\n",
    "# 🚀 Run the program\n",
    "if __name__ == '__main__':\n",
    "    main()\n"
   ]
  }
 ],
 "metadata": {
  "kernelspec": {
   "display_name": "base",
   "language": "python",
   "name": "python3"
  },
  "language_info": {
   "codemirror_mode": {
    "name": "ipython",
    "version": 3
   },
   "file_extension": ".py",
   "mimetype": "text/x-python",
   "name": "python",
   "nbconvert_exporter": "python",
   "pygments_lexer": "ipython3",
   "version": "3.12.7"
  }
 },
 "nbformat": 4,
 "nbformat_minor": 2
}
