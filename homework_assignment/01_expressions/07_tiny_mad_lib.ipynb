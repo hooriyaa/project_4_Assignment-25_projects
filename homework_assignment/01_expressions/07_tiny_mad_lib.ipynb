{
 "cells": [
  {
   "cell_type": "code",
   "execution_count": 3,
   "metadata": {},
   "outputs": [
    {
     "name": "stdout",
     "output_type": "stream",
     "text": [
      "✨ Welcome to Mad Libs! Fill in the blanks to complete the sentence. ✨\n",
      "\n",
      "\n",
      "Generating your fun sentence... 🎲\n",
      "\n",
      "✨ Here's your Mad Libs sentence! ✨\n",
      "------------------------------------------------\n",
      "📖 Once upon a time, a funny cat decided to dance all day long! 🎉\n",
      "------------------------------------------------\n",
      "😂 Hope you had fun! Play again with different words! 🎭\n"
     ]
    }
   ],
   "source": [
    "import time  # ⏳ For a slight delay to make it interactive\n",
    "\n",
    "def main():\n",
    "    \"\"\" 🎭 Fun Mad Libs Game! Fill in the blanks to create a funny sentence. \"\"\"\n",
    "    \n",
    "    print(\"✨ Welcome to Mad Libs! Fill in the blanks to complete the sentence. ✨\\n\")\n",
    "\n",
    "    # 📝 Ask the user for an adjective, noun, and verb\n",
    "    adjective = input(\"🎨 Enter an adjective (e.g., funny, bright, lazy): \").strip()\n",
    "    noun = input(\"📝 Enter a noun (e.g., cat, car, tree): \").strip()\n",
    "    verb = input(\"🏃 Enter a verb (e.g., run, dance, jump): \").strip()\n",
    "\n",
    "    # 🕒 Adding a small delay for fun\n",
    "    print(\"\\nGenerating your fun sentence... 🎲\")\n",
    "    time.sleep(1.5)\n",
    "\n",
    "    # 📖 Form a creative and fun sentence\n",
    "    sentence = f\"Once upon a time, a {adjective} {noun} decided to {verb} all day long! 🎉\"\n",
    "\n",
    "    # 🏆 Print the result in a fun format\n",
    "    print(\"\\n✨ Here's your Mad Libs sentence! ✨\")\n",
    "    print(\"------------------------------------------------\")\n",
    "    print(f\"📖 {sentence}\")\n",
    "    print(\"------------------------------------------------\")\n",
    "    print(\"😂 Hope you had fun! Play again with different words! 🎭\")\n",
    "\n",
    "# 🚀 Run the program\n",
    "if __name__ == '__main__':\n",
    "    main()\n"
   ]
  }
 ],
 "metadata": {
  "kernelspec": {
   "display_name": "base",
   "language": "python",
   "name": "python3"
  },
  "language_info": {
   "codemirror_mode": {
    "name": "ipython",
    "version": 3
   },
   "file_extension": ".py",
   "mimetype": "text/x-python",
   "name": "python",
   "nbconvert_exporter": "python",
   "pygments_lexer": "ipython3",
   "version": "3.12.7"
  }
 },
 "nbformat": 4,
 "nbformat_minor": 2
}
