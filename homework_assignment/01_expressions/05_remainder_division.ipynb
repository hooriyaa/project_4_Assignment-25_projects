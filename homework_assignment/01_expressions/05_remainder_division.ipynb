{
 "cells": [
  {
   "cell_type": "code",
   "execution_count": 2,
   "metadata": {},
   "outputs": [
    {
     "name": "stdout",
     "output_type": "stream",
     "text": [
      "\n",
      "📏 The result of this division is 1 with a remainder of 10 ✅\n"
     ]
    }
   ],
   "source": [
    "def main():\n",
    "    # 📝 Ask the user for two numbers\n",
    "    num1 = int(input(\"🔢 Please enter an integer to be divided: \"))\n",
    "    num2 = int(input(\"🔢 Please enter an integer to divide by: \"))\n",
    "\n",
    "    # 🔄 Perform division and find remainder\n",
    "    quotient = num1 // num2  # Integer division\n",
    "    remainder = num1 % num2   # Remainder\n",
    "\n",
    "    # 🏆 Print the result\n",
    "    print(f\"\\n📏 The result of this division is {quotient} with a remainder of {remainder} ✅\")\n",
    "\n",
    "# 🚀 Run the program\n",
    "if __name__ == '__main__':\n",
    "    main()\n",
    "\n"
   ]
  }
 ],
 "metadata": {
  "kernelspec": {
   "display_name": "base",
   "language": "python",
   "name": "python3"
  },
  "language_info": {
   "codemirror_mode": {
    "name": "ipython",
    "version": 3
   },
   "file_extension": ".py",
   "mimetype": "text/x-python",
   "name": "python",
   "nbconvert_exporter": "python",
   "pygments_lexer": "ipython3",
   "version": "3.12.7"
  }
 },
 "nbformat": 4,
 "nbformat_minor": 2
}
