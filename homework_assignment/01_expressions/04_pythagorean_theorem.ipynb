{
 "cells": [
  {
   "cell_type": "code",
   "execution_count": 1,
   "metadata": {},
   "outputs": [
    {
     "name": "stdout",
     "output_type": "stream",
     "text": [
      "\n",
      "📏 The length of BC (the hypotenuse) is: 39.66 ✅\n"
     ]
    }
   ],
   "source": [
    "import math  # Import math module for square root function\n",
    "\n",
    "def main():\n",
    "    # 📝 Ask the user for the two perpendicular sides\n",
    "    ab = float(input(\"🔢 Enter the length of AB: \"))\n",
    "    ac = float(input(\"🔢 Enter the length of AC: \"))\n",
    "\n",
    "    # 📐 Calculate the hypotenuse using the Pythagorean theorem\n",
    "    bc = math.sqrt(ab**2 + ac**2)\n",
    "\n",
    "    # 🏆 Print the result\n",
    "    print(f\"\\n📏 The length of BC (the hypotenuse) is: {bc:.2f} ✅\")\n",
    "\n",
    "# 🚀 Run the program\n",
    "if __name__ == '__main__':\n",
    "    main()\n"
   ]
  }
 ],
 "metadata": {
  "kernelspec": {
   "display_name": "base",
   "language": "python",
   "name": "python3"
  },
  "language_info": {
   "codemirror_mode": {
    "name": "ipython",
    "version": 3
   },
   "file_extension": ".py",
   "mimetype": "text/x-python",
   "name": "python",
   "nbconvert_exporter": "python",
   "pygments_lexer": "ipython3",
   "version": "3.12.7"
  }
 },
 "nbformat": 4,
 "nbformat_minor": 2
}
