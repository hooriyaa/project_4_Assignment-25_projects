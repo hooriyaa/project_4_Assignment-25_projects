{
 "cells": [
  {
   "cell_type": "code",
   "execution_count": 4,
   "metadata": {},
   "outputs": [
    {
     "name": "stdout",
     "output_type": "stream",
     "text": [
      "🔍 die1 in main() starts as: 10\n",
      "\n",
      "🎲 Dice Roll: Die 1 = 2, Die 2 = 2 → Total = 4\n",
      "🎲 Dice Roll: Die 1 = 2, Die 2 = 3 → Total = 5\n",
      "🎲 Dice Roll: Die 1 = 4, Die 2 = 5 → Total = 9\n",
      "\n",
      "🔍 die1 in main() is still: 10\n"
     ]
    }
   ],
   "source": [
    "\"\"\"\n",
    "🎲 Program: Dice Simulator 🎲\n",
    "----------------------------\n",
    "Simulates rolling two dice, three times. Prints\n",
    "the results of each die roll. This program is used\n",
    "to show how variable scope works.\n",
    "\"\"\"\n",
    "\n",
    "# Import the random library to simulate dice rolls\n",
    "import random\n",
    "\n",
    "# Number of sides on each die\n",
    "NUM_SIDES = 6  \n",
    "\n",
    "def roll_dice():\n",
    "    \"\"\"\n",
    "    🎲 Simulates rolling two dice and prints their total.\n",
    "    Demonstrates local variable scope.\n",
    "    \"\"\"\n",
    "    die1: int = random.randint(1, NUM_SIDES)\n",
    "    die2: int = random.randint(1, NUM_SIDES)\n",
    "    total: int = die1 + die2\n",
    "\n",
    "    # Printing each roll's result\n",
    "    print(f\"🎲 Dice Roll: Die 1 = {die1}, Die 2 = {die2} → Total = {total}\")\n",
    "\n",
    "def main():\n",
    "    \"\"\"\n",
    "    🔍 Demonstrates variable scope by showing the difference\n",
    "    between 'die1' inside main() and inside roll_dice().\n",
    "    \"\"\"\n",
    "    die1: int = 10  # Local variable in main()\n",
    "    print(f\"🔍 die1 in main() starts as: {die1}\\n\")\n",
    "\n",
    "    # Calling roll_dice() three times\n",
    "    roll_dice()\n",
    "    roll_dice()\n",
    "    roll_dice()\n",
    "\n",
    "    print(f\"\\n🔍 die1 in main() is still: {die1}\")  # Shows that 'die1' in main() is unchanged\n",
    "\n",
    "# Ensures main() runs only when the script is executed directly\n",
    "if __name__ == '__main__':\n",
    "    main()\n",
    "     \n"
   ]
  }
 ],
 "metadata": {
  "kernelspec": {
   "display_name": "base",
   "language": "python",
   "name": "python3"
  },
  "language_info": {
   "codemirror_mode": {
    "name": "ipython",
    "version": 3
   },
   "file_extension": ".py",
   "mimetype": "text/x-python",
   "name": "python",
   "nbconvert_exporter": "python",
   "pygments_lexer": "ipython3",
   "version": "3.12.7"
  }
 },
 "nbformat": 4,
 "nbformat_minor": 2
}
