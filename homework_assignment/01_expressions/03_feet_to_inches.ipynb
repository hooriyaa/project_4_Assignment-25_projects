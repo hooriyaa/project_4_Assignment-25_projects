{
 "cells": [
  {
   "cell_type": "code",
   "execution_count": 1,
   "metadata": {},
   "outputs": [
    {
     "name": "stdout",
     "output_type": "stream",
     "text": [
      "\n",
      " 33.0 feet = 396.0 inches ✅\n"
     ]
    }
   ],
   "source": [
    "# 📏 Feet to Inches Converter 📏\n",
    "# 1 foot = 12 inches\n",
    "INCHES_PER_FOOT = 12  \n",
    "\n",
    "def main():\n",
    "    \"\"\" 🚀 Converts feet to inches and displays the result. \"\"\"\n",
    "    \n",
    "    # 📝 Ask the user to enter feet\n",
    "    feet = float(input(\"🔢 Enter length in feet: \"))\n",
    "\n",
    "    # 🔄 Convert feet to inches\n",
    "    inches = feet * INCHES_PER_FOOT\n",
    "\n",
    "    # 🏆 Print the result with icons\n",
    "    print(f\"\\n {feet} feet = {inches} inches ✅\")\n",
    "\n",
    "# 🚀 Run the program\n",
    "if __name__ == '__main__':\n",
    "    main()\n"
   ]
  }
 ],
 "metadata": {
  "kernelspec": {
   "display_name": "base",
   "language": "python",
   "name": "python3"
  },
  "language_info": {
   "codemirror_mode": {
    "name": "ipython",
    "version": 3
   },
   "file_extension": ".py",
   "mimetype": "text/x-python",
   "name": "python",
   "nbconvert_exporter": "python",
   "pygments_lexer": "ipython3",
   "version": "3.12.7"
  }
 },
 "nbformat": 4,
 "nbformat_minor": 2
}
