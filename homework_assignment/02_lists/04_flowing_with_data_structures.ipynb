{
 "cells": [
  {
   "cell_type": "code",
   "execution_count": 7,
   "metadata": {},
   "outputs": [
    {
     "name": "stdout",
     "output_type": "stream",
     "text": [
      "hi hi hi\n"
     ]
    }
   ],
   "source": [
    "def add_three_copies(data):\n",
    "    \"\"\"\n",
    "  Creates a new string containing three copies of `data` using a loop.\n",
    "    \"\"\"\n",
    "    result = \"\"  # Initialize an empty string\n",
    "    for i in range(3):\n",
    "        result += data\n",
    "        if i < 2:\n",
    "            result += \" \"\n",
    "    return result\n",
    "\n",
    "def main():\n",
    "    message = input(\"Enter a message to copy: \")\n",
    "    print(add_three_copies(message))\n",
    "\n",
    "main()\n"
   ]
  }
 ],
 "metadata": {
  "kernelspec": {
   "display_name": "base",
   "language": "python",
   "name": "python3"
  },
  "language_info": {
   "codemirror_mode": {
    "name": "ipython",
    "version": 3
   },
   "file_extension": ".py",
   "mimetype": "text/x-python",
   "name": "python",
   "nbconvert_exporter": "python",
   "pygments_lexer": "ipython3",
   "version": "3.12.7"
  }
 },
 "nbformat": 4,
 "nbformat_minor": 2
}
