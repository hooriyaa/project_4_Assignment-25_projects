{
 "cells": [
  {
   "cell_type": "code",
   "execution_count": 6,
   "metadata": {},
   "outputs": [
    {
     "name": "stdout",
     "output_type": "stream",
     "text": [
      "📜 Original list: ['malahim', 'hira', 'kinza', 'hooriya']\n",
      "❌ Removed: hooriya\n",
      "✅ Final list: ['malahim', 'hira', 'kinza']\n"
     ]
    }
   ],
   "source": [
    "MAX_LENGTH = 3  # 🎯 Maximum allowed length of the list\n",
    "\n",
    "def shorten(lst):\n",
    "    \"\"\"📌 Removes elements from the end of the list until its length is MAX_LENGTH.\"\"\"\n",
    "    while len(lst) > MAX_LENGTH:\n",
    "        removed_item = lst.pop()  # 🗑️ Remove the last element\n",
    "        print(\"❌ Removed:\", removed_item)  # Print removed element\n",
    "\n",
    "def main():\n",
    "    \"\"\" Main function to get a list from the user and shorten it.\"\"\"\n",
    "    lst = input(\"🔹 Enter values separated by spaces: \").split()\n",
    "    print(\"📜 Original list:\", lst)\n",
    "    \n",
    "    shorten(lst)  #  Call the function to remove extra elements\n",
    "    \n",
    "    print(\"✅ Final list:\", lst)  # Print the final list after shortening\n",
    "\n",
    "#  Run the program\n",
    "if __name__ == '__main__':\n",
    "    main()\n"
   ]
  }
 ],
 "metadata": {
  "kernelspec": {
   "display_name": "base",
   "language": "python",
   "name": "python3"
  },
  "language_info": {
   "codemirror_mode": {
    "name": "ipython",
    "version": 3
   },
   "file_extension": ".py",
   "mimetype": "text/x-python",
   "name": "python",
   "nbconvert_exporter": "python",
   "pygments_lexer": "ipython3",
   "version": "3.12.7"
  }
 },
 "nbformat": 4,
 "nbformat_minor": 2
}
