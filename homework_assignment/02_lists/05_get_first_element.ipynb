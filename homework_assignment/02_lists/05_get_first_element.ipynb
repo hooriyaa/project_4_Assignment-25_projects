{
 "cells": [
  {
   "cell_type": "code",
   "execution_count": 14,
   "metadata": {},
   "outputs": [
    {
     "name": "stdout",
     "output_type": "stream",
     "text": [
      "📋 List Input Program 📋\n",
      "🔹 The first element is: hoor\n"
     ]
    }
   ],
   "source": [
    "def get_first_element(lst):\n",
    "    \"\"\"Prints the first element of a provided list.\"\"\"\n",
    "    if lst:  \n",
    "        print(\"🔹 The first element is: \" + lst[0])\n",
    "    else:\n",
    "        print(\"⚠️ The list is empty. No first element.\")\n",
    "\n",
    "def get_lst():\n",
    "    \"\"\"Prompts the user to enter elements of the list one by one.\"\"\"\n",
    "    lst = []\n",
    "    while True:\n",
    "        elem = input(\"✏️ Enter an element (or press Enter to stop): \")\n",
    "        if elem == \"\":\n",
    "            break  # Stop taking input if user presses Enter\n",
    "        lst.append(elem)\n",
    "    return lst\n",
    "\n",
    "def main():\n",
    "    \"\"\"Main function to run the program.\"\"\"\n",
    "    print(\"📋 List Input Program 📋\")\n",
    "    lst = get_lst()\n",
    "    get_first_element(lst)\n",
    "\n",
    "# Run the program\n",
    "if __name__ == '__main__':\n",
    "    main()\n"
   ]
  }
 ],
 "metadata": {
  "kernelspec": {
   "display_name": "base",
   "language": "python",
   "name": "python3"
  },
  "language_info": {
   "codemirror_mode": {
    "name": "ipython",
    "version": 3
   },
   "file_extension": ".py",
   "mimetype": "text/x-python",
   "name": "python",
   "nbconvert_exporter": "python",
   "pygments_lexer": "ipython3",
   "version": "3.12.7"
  }
 },
 "nbformat": 4,
 "nbformat_minor": 2
}
