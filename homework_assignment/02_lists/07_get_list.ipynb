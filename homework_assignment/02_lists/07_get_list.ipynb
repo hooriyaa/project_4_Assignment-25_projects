{
 "cells": [
  {
   "cell_type": "code",
   "execution_count": 10,
   "metadata": {},
   "outputs": [
    {
     "name": "stdout",
     "output_type": "stream",
     "text": [
      "📋 Enter values to create a list. Press Enter to stop.\n",
      "✅ Here's the list: ['2', '6', '8', '9']\n"
     ]
    }
   ],
   "source": [
    "def get_user_list():\n",
    "    \"\"\"Asks the user for values and stores them in a list.\"\"\"\n",
    "    lst = []\n",
    "    while True:\n",
    "        value = input(\"Enter a value (or press Enter to finish): \")\n",
    "        if value == \"\":\n",
    "            break  # Stop taking input when Enter is pressed\n",
    "        lst.append(value)  # Add value to the list\n",
    "    return lst\n",
    "\n",
    "def main():\n",
    "    \"\"\"Main function to run the program.\"\"\"\n",
    "    print(\"📋 Enter values to create a list. Press Enter to stop.\")\n",
    "    user_list = get_user_list()\n",
    "    print(\"✅ Here's the list:\", user_list)\n",
    "\n",
    "# Run the program\n",
    "if __name__ == '__main__':\n",
    "    main()\n"
   ]
  }
 ],
 "metadata": {
  "kernelspec": {
   "display_name": "base",
   "language": "python",
   "name": "python3"
  },
  "language_info": {
   "codemirror_mode": {
    "name": "ipython",
    "version": 3
   },
   "file_extension": ".py",
   "mimetype": "text/x-python",
   "name": "python",
   "nbconvert_exporter": "python",
   "pygments_lexer": "ipython3",
   "version": "3.12.7"
  }
 },
 "nbformat": 4,
 "nbformat_minor": 2
}
