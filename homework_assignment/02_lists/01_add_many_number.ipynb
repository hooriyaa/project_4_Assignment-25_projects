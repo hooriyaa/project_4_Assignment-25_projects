{
 "cells": [
  {
   "cell_type": "code",
   "execution_count": 1,
   "metadata": {},
   "outputs": [
    {
     "name": "stdout",
     "output_type": "stream",
     "text": [
      "📊 The sum of [1, 2, 3, 4, 5] is: 15\n"
     ]
    }
   ],
   "source": [
    "def sum_of_numbers(numbers):\n",
    "    \"\"\" 🔢 Returns the sum of a list of numbers using a loop \"\"\"\n",
    "    total = 0  # Initialize sum\n",
    "    for num in numbers:\n",
    "        total += num  # Add each number to total\n",
    "    return total\n",
    "\n",
    "# 🚀 Example usage\n",
    "numbers_list = [1, 2, 3, 4, 5]\n",
    "result = sum_of_numbers(numbers_list)\n",
    "\n",
    "# 🏆 Print the result\n",
    "print(f\"📊 The sum of {numbers_list} is: {result}\")\n"
   ]
  }
 ],
 "metadata": {
  "kernelspec": {
   "display_name": "base",
   "language": "python",
   "name": "python3"
  },
  "language_info": {
   "codemirror_mode": {
    "name": "ipython",
    "version": 3
   },
   "file_extension": ".py",
   "mimetype": "text/x-python",
   "name": "python",
   "nbconvert_exporter": "python",
   "pygments_lexer": "ipython3",
   "version": "3.12.7"
  }
 },
 "nbformat": 4,
 "nbformat_minor": 2
}
