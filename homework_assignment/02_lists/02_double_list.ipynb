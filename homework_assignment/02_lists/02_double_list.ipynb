{
 "cells": [
  {
   "cell_type": "code",
   "execution_count": 4,
   "metadata": {},
   "outputs": [
    {
     "name": "stdout",
     "output_type": "stream",
     "text": [
      "📊 Original list: [1, 2, 3, 4]\n",
      "✨ Doubled list: [2, 4, 6, 8]\n"
     ]
    }
   ],
   "source": [
    "def double_numbers(numbers):\n",
    "    \"\"\" 🔢 Returns a new list where each number is doubled \"\"\"\n",
    "    doubled_list = []  # Initialize an empty list\n",
    "    for num in numbers:\n",
    "        doubled_list.append(num * 2)  # Multiply each number by 2 and add to the list\n",
    "    return doubled_list\n",
    "\n",
    "# 🚀 Example usage\n",
    "numbers = [1, 2, 3, 4]\n",
    "doubled = double_numbers(numbers)\n",
    "\n",
    "# 🏆 Print the result\n",
    "print(f\"📊 Original list: {numbers}\")\n",
    "print(f\"✨ Doubled list: {doubled}\")\n",
    "\n",
    "\n"
   ]
  }
 ],
 "metadata": {
  "kernelspec": {
   "display_name": "base",
   "language": "python",
   "name": "python3"
  },
  "language_info": {
   "codemirror_mode": {
    "name": "ipython",
    "version": 3
   },
   "file_extension": ".py",
   "mimetype": "text/x-python",
   "name": "python",
   "nbconvert_exporter": "python",
   "pygments_lexer": "ipython3",
   "version": "3.12.7"
  }
 },
 "nbformat": 4,
 "nbformat_minor": 2
}
