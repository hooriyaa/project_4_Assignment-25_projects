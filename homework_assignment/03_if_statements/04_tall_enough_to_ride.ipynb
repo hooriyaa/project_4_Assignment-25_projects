{
 "cells": [
  {
   "cell_type": "code",
   "execution_count": 4,
   "metadata": {},
   "outputs": [
    {
     "name": "stdout",
     "output_type": "stream",
     "text": [
      "❌ You're not tall enough to ride, but maybe next year!\n",
      "🎢 You're tall enough to ride!\n",
      "Goodbye!\n"
     ]
    }
   ],
   "source": [
    "MIN_HEIGHT = 50  # Minimum height jo ride ke liye chahiye\n",
    "\n",
    "while True:\n",
    "    height = input(\"How tall are you? \")  # User se height lo\n",
    "\n",
    "    if height == \"\":  # Agar user kuch na likhe, program band ho jaye\n",
    "        print(\"Goodbye!\")\n",
    "        break\n",
    "\n",
    "    height = int(height)  # String ko number mein convert karo\n",
    "\n",
    "    if height >= MIN_HEIGHT:\n",
    "        print(\"🎢 You're tall enough to ride!\")\n",
    "    else:\n",
    "        print(\"❌ You're not tall enough to ride, but maybe next year!\")\n",
    "\n"
   ]
  }
 ],
 "metadata": {
  "kernelspec": {
   "display_name": "base",
   "language": "python",
   "name": "python3"
  },
  "language_info": {
   "codemirror_mode": {
    "name": "ipython",
    "version": 3
   },
   "file_extension": ".py",
   "mimetype": "text/x-python",
   "name": "python",
   "nbconvert_exporter": "python",
   "pygments_lexer": "ipython3",
   "version": "3.12.7"
  }
 },
 "nbformat": 4,
 "nbformat_minor": 2
}
