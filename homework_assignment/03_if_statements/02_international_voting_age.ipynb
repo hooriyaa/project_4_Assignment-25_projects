{
 "cells": [
  {
   "cell_type": "code",
   "execution_count": 5,
   "metadata": {},
   "outputs": [
    {
     "name": "stdout",
     "output_type": "stream",
     "text": [
      "✅ You can vote in Peturksbouipo (Voting age: 16)\n",
      "❌ You cannot vote in Stanlau (Voting age: 25)\n",
      "❌ You cannot vote in Mayengua (Voting age: 48)\n"
     ]
    }
   ],
   "source": [
    "# 🗳️ Define voting ages as constants\n",
    "PETURKSBOUIPO_AGE = 16\n",
    "STANLAU_AGE = 25\n",
    "MAYENGUA_AGE = 48\n",
    "\n",
    "def main():\n",
    "    # 🔢 Get user age\n",
    "    user_age = int(input(\"🔢 How old are you? \"))\n",
    "\n",
    "    # 📋 List of fictional countries and their voting ages\n",
    "    countries = {\n",
    "        \"Peturksbouipo\": PETURKSBOUIPO_AGE,\n",
    "        \"Stanlau\": STANLAU_AGE,\n",
    "        \"Mayengua\": MAYENGUA_AGE\n",
    "    }\n",
    "\n",
    "    # 🔎 Check voting eligibility\n",
    "    for country, age in countries.items():\n",
    "        if user_age >= age:\n",
    "            print(f\"✅ You can vote in {country} (Voting age: {age})\")\n",
    "        else:\n",
    "            print(f\"❌ You cannot vote in {country} (Voting age: {age})\")\n",
    "\n",
    "# 🚀 Run the program\n",
    "if __name__ == '__main__':\n",
    "    main()\n"
   ]
  }
 ],
 "metadata": {
  "kernelspec": {
   "display_name": "base",
   "language": "python",
   "name": "python3"
  },
  "language_info": {
   "codemirror_mode": {
    "name": "ipython",
    "version": 3
   },
   "file_extension": ".py",
   "mimetype": "text/x-python",
   "name": "python",
   "nbconvert_exporter": "python",
   "pygments_lexer": "ipython3",
   "version": "3.12.7"
  }
 },
 "nbformat": 4,
 "nbformat_minor": 2
}
