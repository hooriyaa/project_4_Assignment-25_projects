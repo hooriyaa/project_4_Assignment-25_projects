{
 "cells": [
  {
   "cell_type": "code",
   "execution_count": 3,
   "metadata": {},
   "outputs": [
    {
     "name": "stdout",
     "output_type": "stream",
     "text": [
      "56 86 36 51 84 16 45 68 91 83 \n"
     ]
    }
   ],
   "source": [
    "import random  # Random library import karo\n",
    "\n",
    "for _ in range(10):  # 10 numbers generate karne hain\n",
    "    print(random.randint(1, 100), end=\" \")  # 1 se 100 tak koi bhi random number print karo\n",
    "\n",
    "print()  # New line ke liye\n"
   ]
  }
 ],
 "metadata": {
  "kernelspec": {
   "display_name": "base",
   "language": "python",
   "name": "python3"
  },
  "language_info": {
   "codemirror_mode": {
    "name": "ipython",
    "version": 3
   },
   "file_extension": ".py",
   "mimetype": "text/x-python",
   "name": "python",
   "nbconvert_exporter": "python",
   "pygments_lexer": "ipython3",
   "version": "3.12.7"
  }
 },
 "nbformat": 4,
 "nbformat_minor": 2
}
