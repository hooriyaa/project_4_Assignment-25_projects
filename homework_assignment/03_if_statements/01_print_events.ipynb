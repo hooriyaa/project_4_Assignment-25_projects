{
 "cells": [
  {
   "cell_type": "code",
   "execution_count": 1,
   "metadata": {},
   "outputs": [
    {
     "name": "stdout",
     "output_type": "stream",
     "text": [
      "✅ First 20 Even Numbers:\n",
      "0 2 4 6 8 10 12 14 16 18 20 22 24 26 28 30 32 34 36 38 "
     ]
    }
   ],
   "source": [
    "def print_even_numbers():\n",
    "    \"\"\" Prints the first 20 even numbers.\"\"\"\n",
    "    print(\"✅ First 20 Even Numbers:\")\n",
    "\n",
    "    for i in range(20):  # 🔄 Loop 20 times\n",
    "        print(i * 2, end=\" \")  #  Print even numbers\n",
    "\n",
    "print_even_numbers()  # Call the function\n"
   ]
  }
 ],
 "metadata": {
  "kernelspec": {
   "display_name": "base",
   "language": "python",
   "name": "python3"
  },
  "language_info": {
   "codemirror_mode": {
    "name": "ipython",
    "version": 3
   },
   "file_extension": ".py",
   "mimetype": "text/x-python",
   "name": "python",
   "nbconvert_exporter": "python",
   "pygments_lexer": "ipython3",
   "version": "3.12.7"
  }
 },
 "nbformat": 4,
 "nbformat_minor": 2
}
