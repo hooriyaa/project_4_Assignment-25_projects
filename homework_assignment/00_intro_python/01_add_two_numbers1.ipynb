{
 "cells": [
  {
   "cell_type": "code",
   "execution_count": 5,
   "metadata": {},
   "outputs": [
    {
     "name": "stdout",
     "output_type": "stream",
     "text": [
      "✨ Welcome! This program adds two numbers. ✨\n",
      "\n",
      "\n",
      "✅ The total sum of 2 and 4 is 6 🎉.\n"
     ]
    }
   ],
   "source": [
    "def main():\n",
    "    \"\"\"\n",
    "    📌 This program takes two numbers as input from the user,\n",
    "    calculates their sum, and displays the result.\n",
    "    \"\"\"\n",
    "    print(\"✨ Welcome! This program adds two numbers. ✨\\n\")\n",
    "\n",
    "    # Prompt the user to enter the first number and convert it to an integer\n",
    "    num1: str = input(\"🔢 Enter first number: \")\n",
    "    num1: int = int(num1)\n",
    "\n",
    "    # Prompt the user to enter the second number and convert it to an integer\n",
    "    num2: str = input(\"🔢 Enter second number: \")\n",
    "    num2: int = int(num2)\n",
    "\n",
    "    # Calculate the sum of the two numbers\n",
    "    total: int = num1 + num2\n",
    "\n",
    "    # Display the result with a formatted message\n",
    "    print(f\"\\n✅ The total sum of {num1} and {num2} is {total} 🎉.\")\n",
    "\n",
    "\n",
    "main()"
   ]
  }
 ],
 "metadata": {
  "kernelspec": {
   "display_name": "base",
   "language": "python",
   "name": "python3"
  },
  "language_info": {
   "codemirror_mode": {
    "name": "ipython",
    "version": 3
   },
   "file_extension": ".py",
   "mimetype": "text/x-python",
   "name": "python",
   "nbconvert_exporter": "python",
   "pygments_lexer": "ipython3",
   "version": "3.12.7"
  }
 },
 "nbformat": 4,
 "nbformat_minor": 2
}
