{
 "cells": [
  {
   "cell_type": "code",
   "execution_count": 3,
   "metadata": {},
   "outputs": [
    {
     "name": "stdout",
     "output_type": "stream",
     "text": [
      "🎉 My favorite animal is also cow! 🐾\n"
     ]
    }
   ],
   "source": [
    "def main():\n",
    "    \"\"\"\n",
    "    🐾 This program asks the user for their favorite animal\n",
    "    and responds enthusiastically with the same choice.\n",
    "    \"\"\"\n",
    "    # Ask the user for their favorite animal\n",
    "    favorite_animal: str = input(\"🐶 What's your favorite animal? \")\n",
    "\n",
    "    # Respond with the same favorite animal\n",
    "    print(f\"🎉 My favorite animal is also {favorite_animal}! 🐾\")\n",
    "\n",
    "# Ensures the main() function runs only when the script is executed directly\n",
    "if __name__ == '__main__':\n",
    "    main()\n"
   ]
  }
 ],
 "metadata": {
  "kernelspec": {
   "display_name": "base",
   "language": "python",
   "name": "python3"
  },
  "language_info": {
   "codemirror_mode": {
    "name": "ipython",
    "version": 3
   },
   "file_extension": ".py",
   "mimetype": "text/x-python",
   "name": "python",
   "nbconvert_exporter": "python",
   "pygments_lexer": "ipython3",
   "version": "3.12.7"
  }
 },
 "nbformat": 4,
 "nbformat_minor": 2
}
