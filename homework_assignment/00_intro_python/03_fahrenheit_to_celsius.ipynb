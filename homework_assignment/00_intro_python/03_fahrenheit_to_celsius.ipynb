{
 "cells": [
  {
   "cell_type": "code",
   "execution_count": 1,
   "metadata": {},
   "outputs": [
    {
     "name": "stdout",
     "output_type": "stream",
     "text": [
      "✅ 34.0°F is equal to 1.11°C.\n"
     ]
    }
   ],
   "source": [
    "def main():\n",
    "    \"\"\"\n",
    "    🌡️ This program converts a temperature from Fahrenheit to Celsius.\n",
    "    \"\"\"\n",
    "    # Prompt the user for a temperature in Fahrenheit (allows decimal values)\n",
    "    fahrenheit: float = float(input(\"🌡️  Enter temperature in Fahrenheit: \"))\n",
    "\n",
    "    # Convert Fahrenheit to Celsius\n",
    "    celsius: float = (fahrenheit - 32) * 5.0 / 9.0\n",
    "\n",
    "    # Display the result\n",
    "    print(f\"✅ {fahrenheit}°F is equal to {celsius:.2f}°C.\")\n",
    "\n",
    "# Ensures the main() function runs only when the script is executed directly\n",
    "if __name__ == '__main__':\n",
    "    main()"
   ]
  }
 ],
 "metadata": {
  "kernelspec": {
   "display_name": "base",
   "language": "python",
   "name": "python3"
  },
  "language_info": {
   "codemirror_mode": {
    "name": "ipython",
    "version": 3
   },
   "file_extension": ".py",
   "mimetype": "text/x-python",
   "name": "python",
   "nbconvert_exporter": "python",
   "pygments_lexer": "ipython3",
   "version": "3.12.7"
  }
 },
 "nbformat": 4,
 "nbformat_minor": 2
}
