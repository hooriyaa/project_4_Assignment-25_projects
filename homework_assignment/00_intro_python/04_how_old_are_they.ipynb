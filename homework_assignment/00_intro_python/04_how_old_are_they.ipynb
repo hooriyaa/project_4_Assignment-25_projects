{
 "cells": [
  {
   "cell_type": "code",
   "execution_count": 1,
   "metadata": {},
   "outputs": [
    {
     "name": "stdout",
     "output_type": "stream",
     "text": [
      "Anton is 21 years old.\n",
      "Beth is 27 years old.\n",
      "Chen is 47 years old.\n",
      "Drew is 68 years old.\n",
      "Ethan is 47 years old.\n"
     ]
    }
   ],
   "source": [
    "def main():\n",
    "    \"\"\"\n",
    "    🧩 This program calculates the ages of five friends based on the given riddle.\n",
    "    \"\"\"\n",
    "    # Assigning ages based on the given conditions\n",
    "    Anton = 21\n",
    "    Beth = Anton + 6\n",
    "    Chen = Beth + 20\n",
    "    Drew = Chen + Anton\n",
    "    Ethan = Chen\n",
    "\n",
    "    # Printing the names and ages\n",
    "    print(f\"Anton is {Anton} years old.\")\n",
    "    print(f\"Beth is {Beth} years old.\")\n",
    "    print(f\"Chen is {Chen} years old.\")\n",
    "    print(f\"Drew is {Drew} years old.\")\n",
    "    print(f\"Ethan is {Ethan} years old.\")\n",
    "\n",
    "# Ensures the main() function runs only when the script is executed directly\n",
    "if __name__ == '__main__':\n",
    "    main()\n"
   ]
  }
 ],
 "metadata": {
  "kernelspec": {
   "display_name": "base",
   "language": "python",
   "name": "python3"
  },
  "language_info": {
   "codemirror_mode": {
    "name": "ipython",
    "version": 3
   },
   "file_extension": ".py",
   "mimetype": "text/x-python",
   "name": "python",
   "nbconvert_exporter": "python",
   "pygments_lexer": "ipython3",
   "version": "3.12.7"
  }
 },
 "nbformat": 4,
 "nbformat_minor": 2
}
