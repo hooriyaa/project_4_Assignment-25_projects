{
 "cells": [
  {
   "cell_type": "code",
   "execution_count": 2,
   "metadata": {},
   "outputs": [
    {
     "name": "stdout",
     "output_type": "stream",
     "text": [
      "The square of 33.0 is 1089.0.\n"
     ]
    }
   ],
   "source": [
    "def main():\n",
    "    \"\"\"\n",
    "    🔢 This program takes a number from the user and prints its square.\n",
    "    \"\"\"\n",
    "    # Prompt the user to enter a number\n",
    "    number: float = float(input(\"Enter a number: \"))\n",
    "\n",
    "    # Calculate the square of the number\n",
    "    square: float = number ** 2\n",
    "\n",
    "    # Display the result\n",
    "    print(f\"The square of {number} is {square}.\")\n",
    "\n",
    "# Ensures the main() function runs only when the script is executed directly\n",
    "if __name__ == '__main__':\n",
    "    main()"
   ]
  }
 ],
 "metadata": {
  "kernelspec": {
   "display_name": "base",
   "language": "python",
   "name": "python3"
  },
  "language_info": {
   "codemirror_mode": {
    "name": "ipython",
    "version": 3
   },
   "file_extension": ".py",
   "mimetype": "text/x-python",
   "name": "python",
   "nbconvert_exporter": "python",
   "pygments_lexer": "ipython3",
   "version": "3.12.7"
  }
 },
 "nbformat": 4,
 "nbformat_minor": 2
}
