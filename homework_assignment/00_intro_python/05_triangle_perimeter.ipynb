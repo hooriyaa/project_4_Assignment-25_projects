{
 "cells": [
  {
   "cell_type": "code",
   "execution_count": 1,
   "metadata": {},
   "outputs": [
    {
     "name": "stdout",
     "output_type": "stream",
     "text": [
      "\n",
      "The perimeter of the triangle is 18.80.\n"
     ]
    }
   ],
   "source": [
    "def main():\n",
    "    \"\"\"\n",
    "    🔺 This program calculates the perimeter of a triangle\n",
    "    based on user-inputted side lengths.\n",
    "    \"\"\"\n",
    "    # Prompt the user for the lengths of the three sides\n",
    "    side1: float = float(input(\"What is the length of side 1? \"))\n",
    "    side2: float = float(input(\"What is the length of side 2? \"))\n",
    "    side3: float = float(input(\"What is the length of side 3? \"))\n",
    "\n",
    "    # Calculate the perimeter (sum of all sides)\n",
    "    perimeter: float = side1 + side2 + side3\n",
    "\n",
    "    # Display the result\n",
    "    print(f\"\\nThe perimeter of the triangle is {perimeter:.2f}.\")\n",
    "\n",
    "# Ensures the main() function runs only when the script is executed directly\n",
    "if __name__ == '__main__':\n",
    "    main()\n"
   ]
  }
 ],
 "metadata": {
  "kernelspec": {
   "display_name": "base",
   "language": "python",
   "name": "python3"
  },
  "language_info": {
   "codemirror_mode": {
    "name": "ipython",
    "version": 3
   },
   "file_extension": ".py",
   "mimetype": "text/x-python",
   "name": "python",
   "nbconvert_exporter": "python",
   "pygments_lexer": "ipython3",
   "version": "3.12.7"
  }
 },
 "nbformat": 4,
 "nbformat_minor": 2
}
