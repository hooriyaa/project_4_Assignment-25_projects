{
 "cells": [
  {
   "cell_type": "code",
   "execution_count": 9,
   "metadata": {},
   "outputs": [
    {
     "name": "stdout",
     "output_type": "stream",
     "text": [
      "True\n",
      "False\n",
      "False\n"
     ]
    }
   ],
   "source": [
    "import hashlib\n",
    "\n",
    "def hash_password(password: str) -> str:\n",
    "    \"\"\"Hashes a password using SHA256.\"\"\"\n",
    "    return hashlib.sha256(password.encode()).hexdigest()\n",
    "\n",
    "def login(email: str, password_to_check: str, stored_logins: dict) -> bool:\n",
    "    \"\"\"Checks if the provided email and password match the stored hash.\"\"\"\n",
    "    if email in stored_logins:\n",
    "        return stored_logins[email] == hash_password(password_to_check)\n",
    "    return False  # Email not found\n",
    "\n",
    "# Example stored logins (hashed passwords)\n",
    "stored_logins = {\n",
    "    \"user@example.com\": hash_password(\"mypassword123\"),\n",
    "    \"hello@domain.com\": hash_password(\"securepass456\"),\n",
    "}\n",
    "\n",
    "# Example login attempts\n",
    "print(login(\"user@example.com\", \"mypassword123\", stored_logins))  # ✅ True (Correct password)\n",
    "print(login(\"hello@domain.com\", \"wrongpass\", stored_logins))  # ❌ False (Wrong password)\n",
    "print(login(\"unknown@email.com\", \"randompass\", stored_logins))  # ❌ False (Email not found)\n"
   ]
  }
 ],
 "metadata": {
  "kernelspec": {
   "display_name": "base",
   "language": "python",
   "name": "python3"
  },
  "language_info": {
   "codemirror_mode": {
    "name": "ipython",
    "version": 3
   },
   "file_extension": ".py",
   "mimetype": "text/x-python",
   "name": "python",
   "nbconvert_exporter": "python",
   "pygments_lexer": "ipython3",
   "version": "3.12.7"
  }
 },
 "nbformat": 4,
 "nbformat_minor": 2
}
