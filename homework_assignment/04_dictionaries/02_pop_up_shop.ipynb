{
 "cells": [
  {
   "cell_type": "code",
   "execution_count": 2,
   "metadata": {},
   "outputs": [
    {
     "name": "stdout",
     "output_type": "stream",
     "text": [
      "\n",
      "🛒 Welcome to the Fruit Shop! 🏪\n",
      "Available fruits and their prices per unit:\n",
      "\n",
      "🍎 Apple: $3.0\n",
      "🍌 Banana: $1.5\n",
      "🍊 Orange: $2.5\n",
      "🍉 Watermelon: $7.0\n",
      "🍓 Strawberry: $4.0\n",
      "🍍 Pineapple: $5.5\n",
      "🍇 Grapes: $6.0\n",
      "\n",
      "Let's start shopping! 🛍️\n",
      "\n",
      "\n",
      "🛍️ Your total is: $423.50\n",
      "\n",
      "✅ Thank you for shopping with us! Have a great day! 😊\n"
     ]
    }
   ],
   "source": [
    "def fruit_shop():\n",
    "    fruit_prices = {\n",
    "        \"🍎 Apple\": 3.0,\n",
    "        \"🍌 Banana\": 1.5,\n",
    "        \"🍊 Orange\": 2.5,\n",
    "        \"🍉 Watermelon\": 7.0,\n",
    "        \"🍓 Strawberry\": 4.0,\n",
    "        \"🍍 Pineapple\": 5.5,\n",
    "        \"🍇 Grapes\": 6.0\n",
    "    }\n",
    "\n",
    "    total_cost = 0\n",
    "\n",
    "    print(\"\\n🛒 Welcome to the Fruit Shop! 🏪\")\n",
    "    print(\"Available fruits and their prices per unit:\\n\")\n",
    "\n",
    "    for fruit, price in fruit_prices.items():\n",
    "        print(f\"{fruit}: ${price}\")\n",
    "\n",
    "    print(\"\\nLet's start shopping! 🛍️\\n\")\n",
    "\n",
    "    for fruit, price in fruit_prices.items():\n",
    "        while True:  # Loop until valid input\n",
    "            quantity = input(f\"How many {fruit} do you want?: \")\n",
    "\n",
    "            if quantity == \"\":  # Agar user sirf Enter press kare\n",
    "                print(\"❌ Invalid input! Please enter a number.\")\n",
    "            else:\n",
    "                try:\n",
    "                    quantity = int(quantity)\n",
    "                    total_cost += quantity * price\n",
    "                    break  # Valid input mil gaya, loop se bahar niklo\n",
    "                except ValueError:\n",
    "                    print(\"❌ Invalid input! Please enter a valid number.\")\n",
    "\n",
    "    print(f\"\\n🛍️ Your total is: ${total_cost:.2f}\\n\")\n",
    "    print(\"✅ Thank you for shopping with us! Have a great day! 😊\")\n",
    "\n",
    "fruit_shop()\n",
    "\n",
    "\n"
   ]
  }
 ],
 "metadata": {
  "kernelspec": {
   "display_name": "base",
   "language": "python",
   "name": "python3"
  },
  "language_info": {
   "codemirror_mode": {
    "name": "ipython",
    "version": 3
   },
   "file_extension": ".py",
   "mimetype": "text/x-python",
   "name": "python",
   "nbconvert_exporter": "python",
   "pygments_lexer": "ipython3",
   "version": "3.12.7"
  }
 },
 "nbformat": 4,
 "nbformat_minor": 2
}
