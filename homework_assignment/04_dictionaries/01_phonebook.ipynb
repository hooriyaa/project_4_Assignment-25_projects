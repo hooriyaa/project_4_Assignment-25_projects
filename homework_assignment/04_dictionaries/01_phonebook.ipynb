{
 "cells": [
  {
   "cell_type": "code",
   "execution_count": 1,
   "metadata": {},
   "outputs": [
    {
     "name": "stdout",
     "output_type": "stream",
     "text": [
      "\n",
      "Phonebook:\n",
      "hoor: 03103095003\n"
     ]
    }
   ],
   "source": [
    "def phonebook_program():\n",
    "    phonebook = {}  # Dictionary banayi\n",
    "\n",
    "    while True:\n",
    "        name = input(\"Enter name (or press Enter to stop): \")\n",
    "        if name == \"\":  # Agar input khaali hai to loop band karo\n",
    "            break  \n",
    "        number = input(f\"Enter phone number for {name}: \")\n",
    "        phonebook[name] = number  # Dictionary mein data store karo\n",
    "\n",
    "    print(\"\\nPhonebook:\")\n",
    "    for name, number in phonebook.items():\n",
    "        print(f\"{name}: {number}\")  # Phonebook print karo\n",
    "\n",
    "phonebook_program()  # Function call karo\n"
   ]
  }
 ],
 "metadata": {
  "kernelspec": {
   "display_name": "base",
   "language": "python",
   "name": "python3"
  },
  "language_info": {
   "codemirror_mode": {
    "name": "ipython",
    "version": 3
   },
   "file_extension": ".py",
   "mimetype": "text/x-python",
   "name": "python",
   "nbconvert_exporter": "python",
   "pygments_lexer": "ipython3",
   "version": "3.12.7"
  }
 },
 "nbformat": 4,
 "nbformat_minor": 2
}
