{
 "cells": [
  {
   "cell_type": "code",
   "execution_count": 1,
   "metadata": {},
   "outputs": [
    {
     "name": "stdout",
     "output_type": "stream",
     "text": [
      "5 appears 2 times.\n",
      "7 appears 1 times.\n",
      "1 appears 2 times.\n"
     ]
    }
   ],
   "source": [
    "def count_numbers():\n",
    "    counts = {}  # Dictionary to store number counts\n",
    "\n",
    "    while True:\n",
    "        num = input(\"Enter a number (or press Enter to stop): \")  \n",
    "        if num == \"\":  # Agar user kuch na likhe to loop band ho jaye\n",
    "            break  \n",
    "        num = int(num)  # Input ko integer banaye  \n",
    "        \n",
    "        # Dictionary mein number count update karein\n",
    "        counts[num] = counts.get(num, 0) + 1  \n",
    "\n",
    "    # Results print karein\n",
    "    for num, count in counts.items():\n",
    "        print(f\"{num} appears {count} times.\")\n",
    "\n",
    "# Function call karein\n",
    "count_numbers()\n"
   ]
  }
 ],
 "metadata": {
  "kernelspec": {
   "display_name": "base",
   "language": "python",
   "name": "python3"
  },
  "language_info": {
   "codemirror_mode": {
    "name": "ipython",
    "version": 3
   },
   "file_extension": ".py",
   "mimetype": "text/x-python",
   "name": "python",
   "nbconvert_exporter": "python",
   "pygments_lexer": "ipython3",
   "version": "3.12.7"
  }
 },
 "nbformat": 4,
 "nbformat_minor": 2
}
