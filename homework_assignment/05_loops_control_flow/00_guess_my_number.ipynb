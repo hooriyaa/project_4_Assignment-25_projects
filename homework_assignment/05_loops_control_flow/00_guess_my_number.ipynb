{
 "cells": [
  {
   "cell_type": "code",
   "execution_count": 2,
   "metadata": {},
   "outputs": [
    {
     "name": "stdout",
     "output_type": "stream",
     "text": [
      "🎲 I am thinking of a number between 0 and 99...\n",
      "⬇️ Too low! Try again.\n",
      "⬇️ Too low! Try again.\n",
      "⬆️ Too high! Try again.\n",
      "⬇️ Too low! Try again.\n",
      "⬆️ Too high! Try again.\n",
      "🎊 Congrats! 🎯 The number was: 42 🎉\n"
     ]
    }
   ],
   "source": [
    "import random  \n",
    "\n",
    "# 🎯 Step 1: Generate a random number\n",
    "secret_number = random.randint(0, 99)  \n",
    "\n",
    "print(\"🎲 I am thinking of a number between 0 and 99...\")  \n",
    "\n",
    "# 🔄 Step 2: Start the guessing loop\n",
    "while True:\n",
    "    guess = input(\"\\n🔢 Enter a guess: \")  \n",
    "    \n",
    "    # ⚠️ Error handling (if user enters a non-numeric value)\n",
    "    if not guess.isdigit():\n",
    "        print(\"❌ Please enter a valid number!\")\n",
    "        continue  # Go back and ask again\n",
    "\n",
    "    guess = int(guess)  # Convert input to integer\n",
    "    \n",
    "    # 📉 Check if the guess is too high\n",
    "    if guess > secret_number:\n",
    "        print(\"⬆️ Too high! Try again.\")\n",
    "    \n",
    "    # 📈 Check if the guess is too low\n",
    "    elif guess < secret_number:\n",
    "        print(\"⬇️ Too low! Try again.\")\n",
    "    \n",
    "    # 🎉 If the guess is correct\n",
    "    else:\n",
    "        print(f\"🎊 Congrats! 🎯 The number was: {secret_number} 🎉\")\n",
    "        break  # Exit the loop\n"
   ]
  }
 ],
 "metadata": {
  "kernelspec": {
   "display_name": "base",
   "language": "python",
   "name": "python3"
  },
  "language_info": {
   "codemirror_mode": {
    "name": "ipython",
    "version": 3
   },
   "file_extension": ".py",
   "mimetype": "text/x-python",
   "name": "python",
   "nbconvert_exporter": "python",
   "pygments_lexer": "ipython3",
   "version": "3.12.7"
  }
 },
 "nbformat": 4,
 "nbformat_minor": 2
}
