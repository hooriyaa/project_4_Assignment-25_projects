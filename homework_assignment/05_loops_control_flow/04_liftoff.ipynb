{
 "cells": [
  {
   "cell_type": "code",
   "execution_count": 14,
   "metadata": {},
   "outputs": [
    {
     "name": "stdout",
     "output_type": "stream",
     "text": [
      "🚀 Preparing for launch...\n",
      "10 9 8 7 6 5 4 3 2 1 🔥 Liftoff! 🌍✨\n"
     ]
    }
   ],
   "source": [
    "def countdown():\n",
    "    print(\"🚀 Preparing for launch...\")\n",
    "\n",
    "    for i in range(10,0,-1):  # Countdown from 10 to 1\n",
    "        print(i, end=\" \")  # Print numbers on the same line\n",
    "    \n",
    "    print(\"🔥 Liftoff! 🌍✨\")  # Print Liftoff after countdown\n",
    "\n",
    "# Run the function\n",
    "countdown()\n"
   ]
  }
 ],
 "metadata": {
  "kernelspec": {
   "display_name": "base",
   "language": "python",
   "name": "python3"
  },
  "language_info": {
   "codemirror_mode": {
    "name": "ipython",
    "version": 3
   },
   "file_extension": ".py",
   "mimetype": "text/x-python",
   "name": "python",
   "nbconvert_exporter": "python",
   "pygments_lexer": "ipython3",
   "version": "3.12.7"
  }
 },
 "nbformat": 4,
 "nbformat_minor": 2
}
