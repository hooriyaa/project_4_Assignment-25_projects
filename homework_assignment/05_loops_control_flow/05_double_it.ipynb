{
 "cells": [
  {
   "cell_type": "code",
   "execution_count": 12,
   "metadata": {},
   "outputs": [
    {
     "name": "stdout",
     "output_type": "stream",
     "text": [
      "6 12 24 48 96 192 "
     ]
    }
   ],
   "source": [
    "def double_number():\n",
    "    while True:  # Loop to keep asking for valid input\n",
    "        number = input(\"Enter a number: \")\n",
    "\n",
    "        if not number.isdigit():  # Check if input is a valid number\n",
    "            print(\"❌ Please enter a valid number!\")\n",
    "            continue  # Ask again\n",
    "        \n",
    "        number = int(number)  # Convert to integer\n",
    "        \n",
    "        while number < 100:  # Loop to double the number\n",
    "            number = number * 2\n",
    "            print(number, end=\" \")\n",
    "\n",
    "        break  # Exit loop after first valid execution\n",
    "\n",
    "double_number()\n",
    "\n",
    "                   \n",
    "\n",
    "     "
   ]
  }
 ],
 "metadata": {
  "kernelspec": {
   "display_name": "base",
   "language": "python",
   "name": "python3"
  },
  "language_info": {
   "codemirror_mode": {
    "name": "ipython",
    "version": 3
   },
   "file_extension": ".py",
   "mimetype": "text/x-python",
   "name": "python",
   "nbconvert_exporter": "python",
   "pygments_lexer": "ipython3",
   "version": "3.12.7"
  }
 },
 "nbformat": 4,
 "nbformat_minor": 2
}
