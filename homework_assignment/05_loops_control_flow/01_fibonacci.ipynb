{
 "cells": [
  {
   "cell_type": "code",
   "execution_count": 5,
   "metadata": {},
   "outputs": [
    {
     "name": "stdout",
     "output_type": "stream",
     "text": [
      "0 1 1 2 3 5 8 13 21 34 55 89 144 233 377 610 987 1597 2584 4181 6765 "
     ]
    }
   ],
   "source": [
    "MAX_TERM_VALUE : int = 10000\n",
    "\n",
    "def main():\n",
    "    curr_term = 0  # The 0th Fibonacci Number\n",
    "    next_term = 1  # The 1st Fibonacci Number\n",
    "    while curr_term <= MAX_TERM_VALUE:\n",
    "        print(curr_term,end=' ')    \n",
    "        term_after_next = curr_term + next_term \n",
    "        curr_term = next_term \n",
    "        next_term = term_after_next \n",
    "\n",
    "# There is no need to edit code beyond this point\n",
    "\n",
    "if __name__ == '__main__':\n",
    "    main()\n"
   ]
  }
 ],
 "metadata": {
  "kernelspec": {
   "display_name": "base",
   "language": "python",
   "name": "python3"
  },
  "language_info": {
   "codemirror_mode": {
    "name": "ipython",
    "version": 3
   },
   "file_extension": ".py",
   "mimetype": "text/x-python",
   "name": "python",
   "nbconvert_exporter": "python",
   "pygments_lexer": "ipython3",
   "version": "3.12.7"
  }
 },
 "nbformat": 4,
 "nbformat_minor": 2
}
