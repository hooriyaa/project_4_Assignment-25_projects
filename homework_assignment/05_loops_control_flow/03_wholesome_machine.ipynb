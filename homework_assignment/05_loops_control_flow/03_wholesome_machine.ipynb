{
 "cells": [
  {
   "cell_type": "code",
   "execution_count": 5,
   "metadata": {},
   "outputs": [
    {
     "name": "stdout",
     "output_type": "stream",
     "text": [
      "❌ Hmmm, that was not the affirmation. Try again! 🔁\n",
      "\n",
      "🎉 That's right! You are amazing!💖\n"
     ]
    }
   ],
   "source": [
    "AFFIRMATION = \"I am capable of doing anything I put my mind to. 💪😊\"\n",
    "\n",
    "def main():\n",
    "    while True:  # Keep asking until the correct input is given\n",
    "        user_input = input(f\"📝 Please type the following affirmation:\\n➡️ {AFFIRMATION}\\n👉 \")\n",
    "\n",
    "        if user_input == AFFIRMATION:\n",
    "            print(\"🎉 That's right! You are amazing!💖\")\n",
    "            break  # Exit the loop when correct\n",
    "        else:\n",
    "            print(\"❌ Hmmm, that was not the affirmation. Try again! 🔁\\n\")\n",
    "\n",
    "if __name__ == \"__main__\":\n",
    "    main()\n",
    "\n"
   ]
  }
 ],
 "metadata": {
  "kernelspec": {
   "display_name": "base",
   "language": "python",
   "name": "python3"
  },
  "language_info": {
   "codemirror_mode": {
    "name": "ipython",
    "version": 3
   },
   "file_extension": ".py",
   "mimetype": "text/x-python",
   "name": "python",
   "nbconvert_exporter": "python",
   "pygments_lexer": "ipython3",
   "version": "3.12.7"
  }
 },
 "nbformat": 4,
 "nbformat_minor": 2
}
