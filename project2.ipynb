{
 "cells": [
  {
   "cell_type": "markdown",
   "id": "eb483c58",
   "metadata": {},
   "source": [
    "Project 2: Guess the Number Game Python Project (computer)"
   ]
  },
  {
   "cell_type": "code",
   "execution_count": 1,
   "id": "ae4dd6d1",
   "metadata": {},
   "outputs": [
    {
     "name": "stdout",
     "output_type": "stream",
     "text": [
      "🎯 Welcome to the Guess the Number Game!\n",
      "\n",
      "🧠 Think of a number between 1 and 100, and I will try to guess it! 😎\n",
      "\n",
      "🤖 Is your number 50? 🔍\n",
      "🎯 Going lower! 🔽\n",
      "\n",
      "🤖 Is your number 25? 🔍\n",
      "🎯 Going lower! 🔽\n",
      "\n",
      "🤖 Is your number 12? 🔍\n",
      "🎯 Going lower! 🔽\n",
      "\n",
      "🤖 Is your number 6? 🔍\n",
      "🎯 Going lower! 🔽\n",
      "\n",
      "🤖 Is your number 3? 🔍\n",
      "\n",
      "🎉 Yay! I guessed your number 3 in 5 attempts! 🏆🎊\n",
      "\n",
      "👋 Thanks for playing! Goodbye!\n"
     ]
    }
   ],
   "source": [
    "def guess_the_number():\n",
    "    while True:\n",
    "        print(\"🎯 Welcome to the Guess the Number Game!\\n\")\n",
    "        print(\"🧠 Think of a number between 1 and 100, and I will try to guess it! 😎\\n\")\n",
    "\n",
    "        low = 1\n",
    "        high = 100\n",
    "        attempts = 0\n",
    "\n",
    "        while low <= high:\n",
    "            guess = (low + high) // 2\n",
    "            attempts += 1\n",
    "            print(f\"🤖 Is your number {guess}? 🔍\")\n",
    "            response = input(\"Reply with: 'high' 🔼, 'low' 🔽, or 'correct' ✅: \").lower()\n",
    "\n",
    "            if response == 'low':\n",
    "                high = guess - 1\n",
    "                print(\"🎯 Going lower! 🔽\\n\")\n",
    "            elif response == 'high':\n",
    "                low = guess + 1\n",
    "                print(\"🎯 Going higher! 🔼\\n\")\n",
    "            elif response == 'correct':\n",
    "                print(f\"\\n🎉 Yay! I guessed your number {guess} in {attempts} attempts! 🏆🎊\\n\")\n",
    "                break\n",
    "            else:\n",
    "                print(\"\\n🚫 Invalid response. Please reply with 'high' 🔼, 'low' 🔽, or 'correct' ✅. 🤡\\n\")\n",
    "\n",
    "        play_again = input(\"Do you want to play again? (yes/no): \").lower()\n",
    "        if play_again != 'yes':\n",
    "            print(\"👋 Thanks for playing! Goodbye!\")\n",
    "            break\n",
    "\n",
    "# Run the game\n",
    "guess_the_number()"
   ]
  }
 ],
 "metadata": {
  "kernelspec": {
   "display_name": "base",
   "language": "python",
   "name": "python3"
  },
  "language_info": {
   "codemirror_mode": {
    "name": "ipython",
    "version": 3
   },
   "file_extension": ".py",
   "mimetype": "text/x-python",
   "name": "python",
   "nbconvert_exporter": "python",
   "pygments_lexer": "ipython3",
   "version": "3.12.7"
  }
 },
 "nbformat": 4,
 "nbformat_minor": 5
}
