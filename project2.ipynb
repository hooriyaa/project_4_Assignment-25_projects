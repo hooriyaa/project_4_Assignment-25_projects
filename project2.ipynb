{
  "nbformat": 4,
  "nbformat_minor": 0,
  "metadata": {
    "colab": {
      "provenance": [],
      "authorship_tag": "ABX9TyMRJtH4anImMSZgsktImech",
      "include_colab_link": true
    },
    "kernelspec": {
      "name": "python3",
      "display_name": "Python 3"
    },
    "language_info": {
      "name": "python"
    }
  },
  "cells": [
    {
      "cell_type": "markdown",
      "metadata": {
        "id": "view-in-github",
        "colab_type": "text"
      },
      "source": [
        "<a href=\"https://colab.research.google.com/github/hooriyaa/projects/blob/main/project2.ipynb\" target=\"_parent\"><img src=\"https://colab.research.google.com/assets/colab-badge.svg\" alt=\"Open In Colab\"/></a>"
      ]
    },
    {
      "cell_type": "markdown",
      "source": [
        "# **Project 2: Guess the Number Game Python Project (computer)**"
      ],
      "metadata": {
        "id": "YGGB0Gw7Bi1Q"
      }
    },
    {
      "cell_type": "code",
      "execution_count": null,
      "metadata": {
        "id": "gQbgEzFiBhkq",
        "colab": {
          "base_uri": "https://localhost:8080/"
        },
        "outputId": "67ede359-f932-45ae-ba70-8f90a2f719cd"
      },
      "outputs": [
        {
          "output_type": "stream",
          "name": "stdout",
          "text": [
            "🎯 Welcome to the Guess the Number Game!\n",
            "\n",
            "🧠 You have to think of a number between 1 and 100, and I will try to guess it! 😎\n",
            "\n",
            "🤖 Is your number 50? 🔍\n",
            "Reply with: 'high' 🔼, 'low' 🔽, or 'correct' ✅: low\n",
            "🎯 Going lower! 🔽\n",
            "🤖 Is your number 25? 🔍\n",
            "Reply with: 'high' 🔼, 'low' 🔽, or 'correct' ✅: low\n",
            "🎯 Going lower! 🔽\n",
            "🤖 Is your number 12? 🔍\n",
            "Reply with: 'high' 🔼, 'low' 🔽, or 'correct' ✅: low\n",
            "🎯 Going lower! 🔽\n",
            "🤖 Is your number 6? 🔍\n",
            "Reply with: 'high' 🔼, 'low' 🔽, or 'correct' ✅: low\n",
            "🎯 Going lower! 🔽\n",
            "🤖 Is your number 3? 🔍\n",
            "Reply with: 'high' 🔼, 'low' 🔽, or 'correct' ✅: high\n",
            "🎯 Going higher! 🔼\n",
            "🤖 Is your number 4? 🔍\n",
            "Reply with: 'high' 🔼, 'low' 🔽, or 'correct' ✅: high\n",
            "🎯 Going higher! 🔼\n",
            "🤖 Is your number 5? 🔍\n",
            "Reply with: 'high' 🔼, 'low' 🔽, or 'correct' ✅: correct\n",
            "\n",
            "🎉 Yay! I guessed your number 5 in 7 attempts! 🏆🎊\n"
          ]
        }
      ],
      "source": [
        "import random\n",
        "\n",
        "def guess_the_number():\n",
        "    print(\"🎯 Welcome to the Guess the Number Game!\\n\")\n",
        "    print(\"🧠 You have to think of a number between 1 and 100, and I will try to guess it! 😎\\n\")\n",
        "\n",
        "    low = 1\n",
        "    high = 100\n",
        "    attempts = 0\n",
        "\n",
        "    while low <= high:\n",
        "        guess = (low + high) // 2  # Computer guesses the middle number\n",
        "        attempts += 1\n",
        "        print(f\"🤖 Is your number {guess}? 🔍\")\n",
        "        response = input(\"Reply with: 'high' 🔼, 'low' 🔽, or 'correct' ✅: \").lower()\n",
        "\n",
        "        if response == 'low':\n",
        "            high = guess - 1  # Narrow down the range to lower numbers\n",
        "            print(\"🎯 Going lower! 🔽\")\n",
        "        elif response == 'high':\n",
        "            low = guess + 1  # Narrow down the range to higher numbers\n",
        "            print(\"🎯 Going higher! 🔼\")\n",
        "        elif response == 'correct':\n",
        "            print(f\"\\n🎉 Yay! I guessed your number {guess} in {attempts} attempts! 🏆🎊\")\n",
        "            break\n",
        "        else:\n",
        "            print(\"\\n🚫 Invalid response. Please reply with 'high' 🔼, 'low' 🔽, or 'correct' ✅. 🤡\")\n",
        "\n",
        "    guess_the_number()\n"
      ]
    }
  ]
}