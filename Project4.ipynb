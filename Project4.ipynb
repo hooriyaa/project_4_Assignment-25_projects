{
  "nbformat": 4,
  "nbformat_minor": 0,
  "metadata": {
    "colab": {
      "provenance": [],
      "authorship_tag": "ABX9TyMs/SZ+jKe0hWyjnr6WgdQm",
      "include_colab_link": true
    },
    "kernelspec": {
      "name": "python3",
      "display_name": "Python 3"
    },
    "language_info": {
      "name": "python"
    }
  },
  "cells": [
    {
      "cell_type": "markdown",
      "metadata": {
        "id": "view-in-github",
        "colab_type": "text"
      },
      "source": [
        "<a href=\"https://colab.research.google.com/github/hooriyaa/projects/blob/main/Project4.ipynb\" target=\"_parent\"><img src=\"https://colab.research.google.com/assets/colab-badge.svg\" alt=\"Open In Colab\"/></a>"
      ]
    },
    {
      "cell_type": "markdown",
      "source": [],
      "metadata": {
        "id": "UhtHE4efFUtE"
      }
    },
    {
      "cell_type": "markdown",
      "source": [
        "# **Project 4: Rock, paper, scissors Python Project**"
      ],
      "metadata": {
        "id": "05_UgsMGHNRU"
      }
    },
    {
      "cell_type": "code",
      "execution_count": null,
      "metadata": {
        "colab": {
          "base_uri": "https://localhost:8080/"
        },
        "id": "fxUT4AmEFRuO",
        "outputId": "a8b5eb0d-43bd-4c79-b5de-0d386ad77172"
      },
      "outputs": [
        {
          "output_type": "stream",
          "name": "stdout",
          "text": [
            "🎯 Welcome to Rock, Paper, Scissors Game! 🔥🎲\n",
            "\n",
            "💡 Choose Rock 🪨, Paper 📄, or Scissors ✂️: rock\n",
            "\n",
            "🧑 Your Choice: Rock 🪨\n",
            "🤖 Computer's Choice: Scissors ✂️\n",
            "\n",
            "🏆 Congratulations! You Win! 🎉\n"
          ]
        }
      ],
      "source": [
        "import random\n",
        "\n",
        "print(\"🎯 Welcome to Rock, Paper, Scissors Game! 🔥🎲\\n\")\n",
        "\n",
        "# Function to play the game\n",
        "def play_game():\n",
        "    options = [\"rock\", \"paper\", \"scissors\"]\n",
        "    user = input(\"💡 Choose Rock 🪨, Paper 📄, or Scissors ✂️: \").lower()\n",
        "\n",
        "    if user not in options:\n",
        "        print(\"❌ Invalid choice! Please select Rock 🪨, Paper 📄, or Scissors ✂️.\")\n",
        "        return\n",
        "\n",
        "    computer = random.choice(options)\n",
        "    print(f\"\\n🧑 Your Choice: {user.capitalize()} {get_icon(user)}\")\n",
        "    print(f\"🤖 Computer's Choice: {computer.capitalize()} {get_icon(computer)}\\n\")\n",
        "\n",
        "    if user == computer:\n",
        "        print(\"🔄 It's a Draw! 🤝\")\n",
        "    elif (user == \"rock\" and computer == \"scissors\") or \\\n",
        "         (user == \"paper\" and computer == \"rock\") or \\\n",
        "         (user == \"scissors\" and computer == \"paper\"):\n",
        "        print(\"🏆 Congratulations! You Win! 🎉\")\n",
        "    else:\n",
        "        print(\"💀 Oops! You Lose! Try Again. 😢\")\n",
        "\n",
        "# Function to get icon\n",
        "def get_icon(choice):\n",
        "    icons = {\"rock\": \"🪨\", \"paper\": \"📄\", \"scissors\": \"✂️\"}\n",
        "    return icons.get(choice, \"❓\")\n",
        "\n",
        "# Start the game\n",
        "play_game()\n"
      ]
    },
    {
      "cell_type": "markdown",
      "source": [],
      "metadata": {
        "id": "8pn_oiAfFTX0"
      }
    }
  ]
}