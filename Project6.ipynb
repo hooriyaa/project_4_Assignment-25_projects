{
  "nbformat": 4,
  "nbformat_minor": 0,
  "metadata": {
    "colab": {
      "provenance": [],
      "authorship_tag": "ABX9TyMsbdBXS1Ak8a7vASyAlA3S",
      "include_colab_link": true
    },
    "kernelspec": {
      "name": "python3",
      "display_name": "Python 3"
    },
    "language_info": {
      "name": "python"
    }
  },
  "cells": [
    {
      "cell_type": "markdown",
      "metadata": {
        "id": "view-in-github",
        "colab_type": "text"
      },
      "source": [
        "<a href=\"https://colab.research.google.com/github/hooriyaa/projects/blob/main/Project6.ipynb\" target=\"_parent\"><img src=\"https://colab.research.google.com/assets/colab-badge.svg\" alt=\"Open In Colab\"/></a>"
      ]
    },
    {
      "cell_type": "markdown",
      "source": [
        "# **Project 6: Countdown Timer Python Project**"
      ],
      "metadata": {
        "id": "vFwswNxoiacW"
      }
    },
    {
      "cell_type": "code",
      "execution_count": null,
      "metadata": {
        "id": "q4tKHARECdXD",
        "colab": {
          "base_uri": "https://localhost:8080/"
        },
        "outputId": "14dafed4-a2fb-4cc3-b7a4-a7ca65a2d130"
      },
      "outputs": [
        {
          "output_type": "stream",
          "name": "stdout",
          "text": [
            "⏳ Welcome to the Countdown Timer! 🔥\n",
            "\n",
            "🦸‍♀️ Let's see if you can wait patiently! 😏\n",
            "💡 Enter time in seconds: ⏲ (Don't pick 100 years, please!) 😂 30\n",
            "\n",
            "🎯 Timer Starting...\n",
            "⏰ 00:00 ⌛\n",
            "\n",
            "🚨 Time's up! 🎉 Hope you didn't fall asleep! 😴💤\n"
          ]
        }
      ],
      "source": [
        "import time\n",
        "\n",
        "# 🎯 Countdown Timer Program\n",
        "print(\"⏳ Welcome to the Countdown Timer! 🔥\\n\")\n",
        "print(\"🦸‍♀️ Let's see if you can wait patiently! 😏\")\n",
        "\n",
        "# Function to start countdown\n",
        "def countdown(seconds):\n",
        "    while seconds >= 0:\n",
        "        mins, secs = divmod(seconds, 60)\n",
        "        print(f\"\\r⏰ {mins:02}:{secs:02} ⌛\", end=\"\")\n",
        "        time.sleep(1)\n",
        "        seconds -= 1\n",
        "\n",
        "    print(\"\\n\\n🚨 Time's up! 🎉 Hope you didn't fall asleep! 😴💤\")\n",
        "\n",
        "# User Input\n",
        "try:\n",
        "    total_time = int(input(\"💡 Enter time in seconds: ⏲ (Don't pick 100 years, please!) 😂 \"))\n",
        "    if total_time > 0:\n",
        "        print(\"\\n🎯 Timer Starting...\")\n",
        "        countdown(total_time)\n",
        "    else:\n",
        "        print(\"\\n❌ Oh no! You entered zero or less. Are you trying to time travel? 🚀\")\n",
        "except ValueError:\n",
        "    print(\"❌ Please enter a valid number😕\")\n"
      ]
    }
  ]
}